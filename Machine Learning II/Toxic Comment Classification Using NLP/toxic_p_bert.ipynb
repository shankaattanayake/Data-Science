{
 "cells": [
  {
   "cell_type": "code",
   "execution_count": 1,
   "id": "legendary-prescription",
   "metadata": {},
   "outputs": [],
   "source": [
    "import pandas as pd\n",
    "import re   \n",
    "from nltk.stem.wordnet import WordNetLemmatizer \n",
    "from nltk.tokenize import word_tokenize\n",
    "from nltk.tokenize import TweetTokenizer \n",
    "from nltk.corpus import stopwords\n",
    "from sklearn.feature_extraction.text import CountVectorizer\n",
    "from sklearn.feature_extraction.text import TfidfTransformer\n",
    "import scipy\n",
    "import numpy as np\n",
    "import torch\n",
    "from tqdm import tqdm\n",
    "import torch.nn as nn\n",
    "from random import shuffle\n",
    "from sentence_transformers import SentenceTransformer\n",
    "from sklearn.metrics import classification_report\n"
   ]
  },
  {
   "cell_type": "code",
   "execution_count": 2,
   "id": "handed-shower",
   "metadata": {},
   "outputs": [],
   "source": [
    "# def vect_to_matrix(vect,start_index,n):\n",
    "#     res = []\n",
    "#     for k in tqdm(range(n)):\n",
    "#         coo = scipy.sparse.coo_matrix(vect[start_index+k])\n",
    "\n",
    "#         values = coo.data\n",
    "#         indices = np.vstack((coo.row, coo.col))\n",
    "#         i = torch.LongTensor(indices)\n",
    "#         v = torch.FloatTensor(values)\n",
    "#         shape = coo.shape\n",
    "\n",
    "#         int_list = torch.sparse.FloatTensor(i, v, torch.Size(shape)).to_dense()\n",
    "\n",
    "#         res.append(int_list)\n",
    "        \n",
    "#     return res\n",
    "    "
   ]
  },
  {
   "cell_type": "code",
   "execution_count": 3,
   "id": "owned-letter",
   "metadata": {},
   "outputs": [],
   "source": [
    "# Aphost lookup dict\n",
    "APPO = {\n",
    "\"aren't\" : \"are not\",\"can't\" : \"cannot\",\"couldn't\" : \"could not\",\"didn't\" : \"did not\",\"doesn't\" : \"does not\",\n",
    "\"don't\" : \"do not\",\"hadn't\" : \"had not\",\"hasn't\" : \"has not\",\"haven't\" : \"have not\",\"he'd\" : \"he would\",\n",
    "\"he'll\" : \"he will\",\"he's\" : \"he is\",\"i'd\" : \"I would\",\"i'd\" : \"I had\",\"i'll\" : \"I will\",\"i'm\" : \"I am\",\"isn't\" : \"is not\",\"it's\" : \"it is\",\"it'll\":\"it will\",\n",
    "\"i've\" : \"I have\",\"let's\" : \"let us\",\"mightn't\" : \"might not\",\"mustn't\" : \"must not\",\"shan't\" : \"shall not\",\n",
    "\"she'd\" : \"she would\",\"she'll\" : \"she will\",\"she's\" : \"she is\",\"shouldn't\" : \"should not\",\"that's\" : \"that is\",\n",
    "\"there's\" : \"there is\",\"they'd\" : \"they would\",\"they'll\" : \"they will\",\"they're\" : \"they are\",\"they've\" : \"they have\",\n",
    "\"we'd\" : \"we would\",\"we're\" : \"we are\",\"weren't\" : \"were not\",\"we've\" : \"we have\",\"what'll\" : \"what will\",\"what're\" : \"what are\",\n",
    "\"what's\" : \"what is\",\"what've\" : \"what have\",\"where's\" : \"where is\",\"who'd\" : \"who would\",\"who'll\" : \"who will\",\n",
    "\"who're\" : \"who are\",\"who's\" : \"who is\",\"who've\" : \"who have\",\"won't\" : \"will not\",\"wouldn't\" : \"would not\",\n",
    "\"you'd\" : \"you would\",\"you'll\" : \"you will\",\"you're\" : \"you are\",\"you've\" : \"you have\",\"'re\": \" are\",\"wasn't\": \"was not\",\n",
    "\"we'll\":\" will\",\"didn't\": \"did not\",\"tryin'\":\"trying\"\n",
    "}\n",
    "\n",
    "eng_stopwords = set(stopwords.words(\"english\"))\n",
    "lem = WordNetLemmatizer()\n",
    "tokenizer=TweetTokenizer()"
   ]
  },
  {
   "cell_type": "code",
   "execution_count": 4,
   "id": "abstract-trademark",
   "metadata": {},
   "outputs": [],
   "source": [
    "def clean(comment):\n",
    "    #Convert to lower case , so that Hi and hi are the same\n",
    "    comment = comment.lower()\n",
    "    #remove \\n\n",
    "    comment = re.sub(\"\\\\n\",\"\",comment)\n",
    "    # remove leaky elements like ip,user\n",
    "    comment = re.sub(\"\\d{1,3}\\.\\d{1,3}\\.\\d{1,3}\\.\\d{1,3}\",\"\",comment)\n",
    "    #removing usernames\n",
    "    comment = re.sub(\"\\[\\[.*\\]\",\"\",comment)\n",
    "    \n",
    "    #Split the sentences into words\n",
    "\n",
    "    words = tokenizer.tokenize(comment)\n",
    "    \n",
    "    # (')aphostophe  replacement (ie)   you're --> you are  \n",
    "    words =[APPO[word] if word in APPO else word for word in words]\n",
    "    words =[lem.lemmatize(word, \"v\") for word in words]\n",
    "    words = [w for w in words if not w in eng_stopwords]\n",
    "    \n",
    "    clean_sent =\" \".join(words)\n",
    "    # remove any non alphanum, digit character\n",
    "    clean_sent = re.sub(\"\\W+\",\" \",clean_sent)\n",
    "    clean_sent = re.sub(\"  \",\" \",clean_sent)\n",
    "    return(clean_sent)"
   ]
  },
  {
   "cell_type": "code",
   "execution_count": 5,
   "id": "unlike-audio",
   "metadata": {},
   "outputs": [],
   "source": [
    "def train_loop(batch,batch_y,optimizer,loss,net):\n",
    "    net.train()\n",
    "    out = net(batch)\n",
    "    L = loss(out,batch_y)\n",
    "    optimizer.zero_grad()\n",
    "    L.backward()\n",
    "    optimizer.step()\n",
    "    \n",
    "    return L"
   ]
  },
  {
   "cell_type": "code",
   "execution_count": 6,
   "id": "curious-privilege",
   "metadata": {},
   "outputs": [],
   "source": [
    "train = pd.read_csv(\"Project_train.csv\")"
   ]
  },
  {
   "cell_type": "code",
   "execution_count": 7,
   "id": "subjective-montreal",
   "metadata": {},
   "outputs": [],
   "source": [
    "merge = train.iloc[:,0:2]\n",
    "corpus = merge.comment_text\n",
    "clean_corpus = corpus.apply(lambda x :clean(x))\n",
    "\n",
    "X_train = clean_corpus\n",
    "y_train = train.toxic"
   ]
  },
  {
   "cell_type": "code",
   "execution_count": 8,
   "id": "healthy-abortion",
   "metadata": {},
   "outputs": [],
   "source": [
    "y_train3 = torch.tensor(y_train,dtype = torch.long)"
   ]
  },
  {
   "cell_type": "code",
   "execution_count": 9,
   "id": "comparative-relevance",
   "metadata": {},
   "outputs": [],
   "source": [
    "model = SentenceTransformer('multi-qa-MiniLM-L6-cos-v1')"
   ]
  },
  {
   "cell_type": "code",
   "execution_count": 50,
   "id": "varied-tongue",
   "metadata": {},
   "outputs": [
    {
     "name": "stderr",
     "output_type": "stream",
     "text": [
      "100%|██████████| 159570/159570 [2:20:14<00:00, 18.96it/s]  \n"
     ]
    }
   ],
   "source": [
    "# Running this can take significant amount of time, we saved this\n",
    "# tensor below from an old run and load it in a cell below\n",
    "\n",
    "X_train2 = model.encode([X_train.iloc[0]])\n",
    "for i in tqdm(range(1,X_train.shape[0])):\n",
    "    passage_embedding_new = model.encode([X_train.iloc[i]])\n",
    "    X_train2 = np.append(X_train2,passage_embedding_new,0)"
   ]
  },
  {
   "cell_type": "code",
   "execution_count": 53,
   "id": "fb23c7c4-bd25-4fd9-b537-8997b3364f9a",
   "metadata": {},
   "outputs": [],
   "source": [
    "torch.save(X_train2, \"X_train2_bert.pt\")"
   ]
  },
  {
   "cell_type": "code",
   "execution_count": 11,
   "id": "dc21aa76-f0a7-4f47-b0a6-6901e92c948b",
   "metadata": {},
   "outputs": [],
   "source": [
    "X_train2 = torch.load(\"X_train2_bert.pt\")"
   ]
  },
  {
   "cell_type": "code",
   "execution_count": 12,
   "id": "operational-population",
   "metadata": {},
   "outputs": [],
   "source": [
    "X_train3 = torch.from_numpy(X_train2)"
   ]
  },
  {
   "cell_type": "code",
   "execution_count": 13,
   "id": "victorian-wales",
   "metadata": {},
   "outputs": [],
   "source": [
    "X_train4 = X_train3\n",
    "y_train4 = y_train3"
   ]
  },
  {
   "cell_type": "code",
   "execution_count": 14,
   "id": "c9e20be2-1a01-4591-97c1-87e9bd417c10",
   "metadata": {},
   "outputs": [],
   "source": [
    "from random import shuffle"
   ]
  },
  {
   "cell_type": "code",
   "execution_count": 15,
   "id": "66a9b45d-cad9-4203-ab8e-57b5ac53d8fd",
   "metadata": {},
   "outputs": [],
   "source": [
    "def train_model(net, loss, optimizer, out_path, epochs):\n",
    "    losses = []\n",
    "    train_reports = []\n",
    "    test_reports = []\n",
    "    for j in range(epochs):\n",
    "        # for i in tqdm(range(0,X_train2.shape[0],16)):\n",
    "        inds = list(range(0, X_train2.shape[0], 16))\n",
    "        shuffle(inds)\n",
    "        for i in tqdm(inds):\n",
    "            batch = X_train4[i:i+16]\n",
    "            batch_y = y_train4[i:i+16]\n",
    "            batch = batch.to(device)\n",
    "            batch_y = batch_y.to(device)\n",
    "            L = train_loop(batch,batch_y,optimizer,loss,net)\n",
    "            losses.append(L)\n",
    "\n",
    "        y_all_pred = []\n",
    "        for i in tqdm(range(0,X_train2.shape[0],256)):\n",
    "            batch = X_train4[i:i+256]\n",
    "            batch_y = y_train4[i:i+256]\n",
    "            batch = batch.to(device)\n",
    "            batch_y = batch_y.to(device)\n",
    "            y_pred = test_loop(batch,batch_y,net)\n",
    "            y_all_pred.extend(y_pred.tolist())\n",
    "        if j == epochs - 1:\n",
    "            print(\"Train report\")\n",
    "            print(classification_report(y_train4.tolist(), y_all_pred))\n",
    "        train_reports.append(str(classification_report(y_train4.tolist(), y_all_pred)))\n",
    "\n",
    "        y_all_pred = []\n",
    "        for i in tqdm(range(0,X_test2.shape[0],256)):\n",
    "            batch = X_test3[i:i+256]\n",
    "            batch_y = y_test3[i:i+256]\n",
    "            batch = batch.to(device)\n",
    "            batch_y = batch_y.to(device)\n",
    "            y_pred = test_loop(batch,batch_y,net)\n",
    "            y_all_pred.extend(y_pred.tolist())\n",
    "        if j == epochs - 1:\n",
    "            print(\"Test report\")\n",
    "            print(classification_report(y_test3.tolist(), y_all_pred))\n",
    "        test_reports.append(str(classification_report(y_test3.tolist(), y_all_pred)))\n",
    "    torch.save({\n",
    "        \"train_reports\": train_reports,\n",
    "        \"test_reports\": test_reports,\n",
    "        \"losses\": losses,\n",
    "    }, out_path)"
   ]
  },
  {
   "cell_type": "markdown",
   "id": "a6e63569",
   "metadata": {},
   "source": [
    "# Test"
   ]
  },
  {
   "cell_type": "code",
   "execution_count": 20,
   "id": "3b75f520",
   "metadata": {},
   "outputs": [],
   "source": [
    "load_dict1 = torch.load('train_model.temp.pt')\n",
    "\n",
    "net = load_dict1['model']\n",
    "# vect = load_dict1['vectorizer']\n",
    "# tf_idf = load_dict1['tf_idf']\n",
    "\n",
    "test = pd.read_csv(\"Project_test.csv\")\n",
    "test_labels = pd.read_csv(\"Project_test_labels.csv\")\n",
    "\n",
    "test_new = test.merge(test_labels,on = 'id')\n",
    "\n",
    "test_new = test_new[test_new.toxic != -1]\n",
    "test_new.reset_index( drop = True, inplace = True)\n",
    "\n",
    "merge1 = test_new.iloc[:,0:2]\n",
    "corpus1 = merge1.comment_text\n",
    "clean_corpus1 = corpus1.apply(lambda x :clean(x))\n",
    "X_test = clean_corpus1\n",
    "y_test = test_new.toxic\n",
    "\n",
    "y_test3 = torch.tensor(y_test,dtype = torch.long)\n",
    "\n",
    "X_test2 = torch.load(\"X_test2_bert.pt\")\n",
    "\n",
    "# X_test2 = model.encode([X_test.iloc[0]])\n",
    "# for i in range(1,X_test.shape[0]):\n",
    "#     passage_embedding_new = model.encode([X_test.iloc[i]])\n",
    "#     X_test2 = np.append(X_test2,passage_embedding_new,0)\n",
    "\n",
    "X_test3 = torch.from_numpy(X_test2)\n",
    "\n",
    "def test_loop(batch,batch_y,net):\n",
    "    net.eval()\n",
    "    with torch.no_grad():\n",
    "        out = net(batch)\n",
    "        \n",
    "    _,y_predicted = torch.topk(out,1,dim = 1) \n",
    "    correct = batch_y == y_predicted.squeeze(1)\n",
    "   \n",
    "    \n",
    "    return y_predicted.squeeze(1)\n",
    "\n",
    "# y_all_pred = []\n",
    "# for i in tqdm(range(0,X_test2.shape[0],4)):\n",
    "#     batch = X_test3[i:i+4]\n",
    "#     batch_y = y_test3[i:i+4]\n",
    "#     batch = batch.to(device)\n",
    "#     batch_y = batch_y.to(device)\n",
    "#     y_pred = test_loop(batch,batch_y,net)\n",
    "#     y_all_pred.extend(y_pred.tolist())\n",
    "\n",
    "# print(classification_report(y_test3.tolist(), y_all_pred))"
   ]
  },
  {
   "cell_type": "markdown",
   "id": "5913845d-293b-4c79-95a1-cf0033247703",
   "metadata": {},
   "source": [
    "# Experiments"
   ]
  },
  {
   "cell_type": "code",
   "execution_count": 21,
   "id": "e12abd5d-7d84-4b85-a051-086a9be7c3c0",
   "metadata": {},
   "outputs": [
    {
     "name": "stderr",
     "output_type": "stream",
     "text": [
      "100%|██████████| 9974/9974 [00:14<00:00, 711.53it/s]\n",
      "100%|██████████| 624/624 [00:00<00:00, 2439.18it/s]\n"
     ]
    },
    {
     "name": "stdout",
     "output_type": "stream",
     "text": [
      "Train report\n",
      "              precision    recall  f1-score   support\n",
      "\n",
      "           0       0.96      0.98      0.97    144277\n",
      "           1       0.80      0.60      0.69     15294\n",
      "\n",
      "    accuracy                           0.95    159571\n",
      "   macro avg       0.88      0.79      0.83    159571\n",
      "weighted avg       0.94      0.95      0.94    159571\n",
      "\n"
     ]
    },
    {
     "name": "stderr",
     "output_type": "stream",
     "text": [
      "100%|██████████| 250/250 [00:00<00:00, 2508.62it/s]\n"
     ]
    },
    {
     "name": "stdout",
     "output_type": "stream",
     "text": [
      "Test report\n",
      "              precision    recall  f1-score   support\n",
      "\n",
      "           0       0.96      0.95      0.96     57888\n",
      "           1       0.58      0.64      0.61      6090\n",
      "\n",
      "    accuracy                           0.92     63978\n",
      "   macro avg       0.77      0.80      0.78     63978\n",
      "weighted avg       0.93      0.92      0.92     63978\n",
      "\n"
     ]
    }
   ],
   "source": [
    "epochs = 1\n",
    "\n",
    "device = torch.device(\"cuda:0\")\n",
    "net = nn.Sequential(\n",
    "    nn.Linear(384,128),\n",
    "    nn.Dropout(0.5),\n",
    "    nn.ReLU(),\n",
    "    nn.Linear(128,2),\n",
    "    nn.Softmax(dim=1)\n",
    ")\n",
    "\n",
    "loss = nn.CrossEntropyLoss(weight = torch.tensor([1,1],dtype= torch.float))\n",
    "\n",
    "optimizer = torch.optim.Adam(net.parameters(),lr = 1e-3, weight_decay=1e-4)\n",
    "\n",
    "net = net.to(device)\n",
    "loss = loss.to(device)\n",
    "\n",
    "train_model(net, loss, optimizer, \"sbert_balanced_mlp_2.pt\", epochs)\n",
    "\n",
    "# device = torch.device(\"cuda:0\")\n",
    "# net = nn.Sequential(\n",
    "#     nn.Linear(384,128),\n",
    "#     nn.Dropout(0.5),\n",
    "#     nn.ReLU(),\n",
    "#     nn.Linear(128,64),\n",
    "#     nn.Dropout(0.5),\n",
    "#     nn.ReLU(),\n",
    "#     nn.Linear(64,2),\n",
    "#     nn.Softmax(dim=1)\n",
    "# )\n",
    "\n",
    "# loss = nn.CrossEntropyLoss(weight = torch.tensor([1,1],dtype= torch.float))\n",
    "\n",
    "# optimizer = torch.optim.Adam(net.parameters(),lr = 1e-3, weight_decay=1e-4)\n",
    "\n",
    "# net = net.to(device)\n",
    "# loss = loss.to(device)\n",
    "\n",
    "# train_model(net, loss, optimizer, \"sbert_balanced_mlp_3.pt\", epochs)\n",
    "\n",
    "# device = torch.device(\"cuda:0\")\n",
    "# net = nn.Sequential(\n",
    "#     nn.Linear(384,128),\n",
    "#     nn.Dropout(0.5),\n",
    "#     nn.ReLU(),\n",
    "#     nn.Linear(128,2),\n",
    "#     nn.Softmax(dim=1)\n",
    "# )\n",
    "\n",
    "# loss = nn.CrossEntropyLoss(weight = torch.tensor([1,3],dtype= torch.float))\n",
    "\n",
    "# optimizer = torch.optim.Adam(net.parameters(),lr = 1e-3, weight_decay=1e-4)\n",
    "\n",
    "# net = net.to(device)\n",
    "# loss = loss.to(device)\n",
    "\n",
    "# train_model(net, loss, optimizer, \"sbert_weighted_mlp_2.pt\", epochs)\n",
    "\n",
    "# device = torch.device(\"cuda:0\")\n",
    "# net = nn.Sequential(\n",
    "#     nn.Linear(384,128),\n",
    "#     nn.Dropout(0.5),\n",
    "#     nn.ReLU(),\n",
    "#     nn.Linear(128,64),\n",
    "#     nn.Dropout(0.5),\n",
    "#     nn.ReLU(),\n",
    "#     nn.Linear(64,2),\n",
    "#     nn.Softmax(dim=1)\n",
    "# )\n",
    "\n",
    "# loss = nn.CrossEntropyLoss(weight = torch.tensor([1,3],dtype= torch.float))\n",
    "\n",
    "# optimizer = torch.optim.Adam(net.parameters(),lr = 1e-3, weight_decay=1e-4)\n",
    "\n",
    "# net = net.to(device)\n",
    "# loss = loss.to(device)\n",
    "\n",
    "# train_model(net, loss, optimizer, \"sbert_weighted_mlp_3.pt\", epochs)"
   ]
  },
  {
   "cell_type": "code",
   "execution_count": 22,
   "id": "accredited-brand",
   "metadata": {},
   "outputs": [],
   "source": [
    "# for j in range(10):\n",
    "#     # for i in tqdm(range(0,X_train2.shape[0],16)):\n",
    "#     inds = list(range(0, X_train2.shape[0], 4))\n",
    "#     shuffle(inds)\n",
    "#     for i in tqdm(inds):\n",
    "#         batch = X_train4[i:i+4]\n",
    "#         batch_y = y_train4[i:i+4]\n",
    "#         batch = batch.to(device)\n",
    "#         batch_y = batch_y.to(device)\n",
    "#         L = train_loop(batch,batch_y,optimizer,loss,net)\n",
    "        \n",
    "#     y_all_pred = []\n",
    "#     for i in tqdm(range(0,X_train2.shape[0],256)):\n",
    "#         batch = X_train4[i:i+256]\n",
    "#         batch_y = y_train4[i:i+256]\n",
    "#         batch = batch.to(device)\n",
    "#         batch_y = batch_y.to(device)\n",
    "#         y_pred = test_loop(batch,batch_y,net)\n",
    "#         y_all_pred.extend(y_pred.tolist())\n",
    "#     print(\"Train report\")\n",
    "#     print(classification_report(y_train4.tolist(), y_all_pred))\n",
    "        \n",
    "#     y_all_pred = []\n",
    "#     for i in tqdm(range(0,X_test2.shape[0],256)):\n",
    "#         batch = X_test3[i:i+256]\n",
    "#         batch_y = y_test3[i:i+256]\n",
    "#         batch = batch.to(device)\n",
    "#         batch_y = batch_y.to(device)\n",
    "#         y_pred = test_loop(batch,batch_y,net)\n",
    "#         y_all_pred.extend(y_pred.tolist())\n",
    "#     print(\"Test report\")\n",
    "#     print(classification_report(y_test3.tolist(), y_all_pred))"
   ]
  },
  {
   "cell_type": "code",
   "execution_count": null,
   "id": "693fdb59-7516-4f65-a3b1-153ca45f74e8",
   "metadata": {},
   "outputs": [],
   "source": []
  }
 ],
 "metadata": {
  "kernelspec": {
   "display_name": "Python 3",
   "language": "python",
   "name": "python3"
  },
  "language_info": {
   "codemirror_mode": {
    "name": "ipython",
    "version": 3
   },
   "file_extension": ".py",
   "mimetype": "text/x-python",
   "name": "python",
   "nbconvert_exporter": "python",
   "pygments_lexer": "ipython3",
   "version": "3.9.7"
  }
 },
 "nbformat": 4,
 "nbformat_minor": 5
}
