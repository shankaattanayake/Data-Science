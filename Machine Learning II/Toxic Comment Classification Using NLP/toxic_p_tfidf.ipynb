{
 "cells": [
  {
   "cell_type": "code",
   "execution_count": 1,
   "id": "legendary-prescription",
   "metadata": {},
   "outputs": [],
   "source": [
    "import pandas as pd\n",
    "import re   \n",
    "from nltk.stem.wordnet import WordNetLemmatizer \n",
    "from nltk.tokenize import word_tokenize\n",
    "from nltk.tokenize import TweetTokenizer \n",
    "from nltk.corpus import stopwords\n",
    "from sklearn.feature_extraction.text import CountVectorizer\n",
    "from sklearn.feature_extraction.text import TfidfTransformer\n",
    "import scipy\n",
    "import numpy as np\n",
    "import torch\n",
    "from tqdm import tqdm\n",
    "import torch.nn as nn\n",
    "from random import shuffle\n"
   ]
  },
  {
   "cell_type": "code",
   "execution_count": 2,
   "id": "handed-shower",
   "metadata": {},
   "outputs": [],
   "source": [
    "def vect_to_matrix(vect,start_index,n):\n",
    "    res = []\n",
    "    for k in tqdm(range(n)):\n",
    "        coo = scipy.sparse.coo_matrix(vect[start_index+k])\n",
    "\n",
    "        values = coo.data\n",
    "        indices = np.vstack((coo.row, coo.col))\n",
    "        i = torch.LongTensor(indices)\n",
    "        v = torch.FloatTensor(values)\n",
    "        shape = coo.shape\n",
    "\n",
    "        int_list = torch.sparse.FloatTensor(i, v, torch.Size(shape)).to_dense()\n",
    "\n",
    "        res.append(int_list)\n",
    "        \n",
    "    return res\n",
    "    "
   ]
  },
  {
   "cell_type": "code",
   "execution_count": 3,
   "id": "owned-letter",
   "metadata": {},
   "outputs": [],
   "source": [
    "# Aphost lookup dict\n",
    "APPO = {\n",
    "\"aren't\" : \"are not\",\"can't\" : \"cannot\",\"couldn't\" : \"could not\",\"didn't\" : \"did not\",\"doesn't\" : \"does not\",\n",
    "\"don't\" : \"do not\",\"hadn't\" : \"had not\",\"hasn't\" : \"has not\",\"haven't\" : \"have not\",\"he'd\" : \"he would\",\n",
    "\"he'll\" : \"he will\",\"he's\" : \"he is\",\"i'd\" : \"I would\",\"i'd\" : \"I had\",\"i'll\" : \"I will\",\"i'm\" : \"I am\",\"isn't\" : \"is not\",\"it's\" : \"it is\",\"it'll\":\"it will\",\n",
    "\"i've\" : \"I have\",\"let's\" : \"let us\",\"mightn't\" : \"might not\",\"mustn't\" : \"must not\",\"shan't\" : \"shall not\",\n",
    "\"she'd\" : \"she would\",\"she'll\" : \"she will\",\"she's\" : \"she is\",\"shouldn't\" : \"should not\",\"that's\" : \"that is\",\n",
    "\"there's\" : \"there is\",\"they'd\" : \"they would\",\"they'll\" : \"they will\",\"they're\" : \"they are\",\"they've\" : \"they have\",\n",
    "\"we'd\" : \"we would\",\"we're\" : \"we are\",\"weren't\" : \"were not\",\"we've\" : \"we have\",\"what'll\" : \"what will\",\"what're\" : \"what are\",\n",
    "\"what's\" : \"what is\",\"what've\" : \"what have\",\"where's\" : \"where is\",\"who'd\" : \"who would\",\"who'll\" : \"who will\",\n",
    "\"who're\" : \"who are\",\"who's\" : \"who is\",\"who've\" : \"who have\",\"won't\" : \"will not\",\"wouldn't\" : \"would not\",\n",
    "\"you'd\" : \"you would\",\"you'll\" : \"you will\",\"you're\" : \"you are\",\"you've\" : \"you have\",\"'re\": \" are\",\"wasn't\": \"was not\",\n",
    "\"we'll\":\" will\",\"didn't\": \"did not\",\"tryin'\":\"trying\"\n",
    "}\n",
    "\n",
    "eng_stopwords = set(stopwords.words(\"english\"))\n",
    "lem = WordNetLemmatizer()\n",
    "tokenizer=TweetTokenizer()"
   ]
  },
  {
   "cell_type": "code",
   "execution_count": 4,
   "id": "abstract-trademark",
   "metadata": {},
   "outputs": [],
   "source": [
    "def clean(comment):\n",
    "    #Convert to lower case , so that Hi and hi are the same\n",
    "    comment = comment.lower()\n",
    "    #remove \\n\n",
    "    comment = re.sub(\"\\\\n\",\"\",comment)\n",
    "    # remove leaky elements like ip,user\n",
    "    comment = re.sub(\"\\d{1,3}\\.\\d{1,3}\\.\\d{1,3}\\.\\d{1,3}\",\"\",comment)\n",
    "    #removing usernames\n",
    "    comment = re.sub(\"\\[\\[.*\\]\",\"\",comment)\n",
    "    \n",
    "    #Split the sentences into words\n",
    "\n",
    "    words = tokenizer.tokenize(comment)\n",
    "    \n",
    "    # (')aphostophe  replacement (ie)   you're --> you are  \n",
    "    words =[APPO[word] if word in APPO else word for word in words]\n",
    "    words =[lem.lemmatize(word, \"v\") for word in words]\n",
    "    words = [w for w in words if not w in eng_stopwords]\n",
    "    \n",
    "    clean_sent =\" \".join(words)\n",
    "    # remove any non alphanum, digit character\n",
    "    clean_sent = re.sub(\"\\W+\",\" \",clean_sent)\n",
    "    clean_sent = re.sub(\"  \",\" \",clean_sent)\n",
    "    return(clean_sent)"
   ]
  },
  {
   "cell_type": "code",
   "execution_count": 5,
   "id": "unlike-audio",
   "metadata": {},
   "outputs": [],
   "source": [
    "def train_loop(batch,batch_y,optimizer,loss,net):\n",
    "    net.train()\n",
    "    out = net(batch)\n",
    "    L = loss(out,batch_y)\n",
    "    optimizer.zero_grad()\n",
    "    L.backward()\n",
    "    optimizer.step()\n",
    "    \n",
    "    return L"
   ]
  },
  {
   "cell_type": "code",
   "execution_count": 6,
   "id": "curious-privilege",
   "metadata": {},
   "outputs": [],
   "source": [
    "train = pd.read_csv(\"Project_train.csv\")"
   ]
  },
  {
   "cell_type": "code",
   "execution_count": 7,
   "id": "subjective-montreal",
   "metadata": {},
   "outputs": [],
   "source": [
    "merge = train.iloc[:,0:2]\n",
    "corpus = merge.comment_text\n",
    "clean_corpus = corpus.apply(lambda x :clean(x))\n",
    "\n",
    "X_train = clean_corpus\n",
    "y_train = train.toxic"
   ]
  },
  {
   "cell_type": "code",
   "execution_count": 8,
   "id": "healthy-abortion",
   "metadata": {},
   "outputs": [],
   "source": [
    "y_train3 = torch.tensor(y_train,dtype = torch.long)"
   ]
  },
  {
   "cell_type": "code",
   "execution_count": 9,
   "id": "visible-mistake",
   "metadata": {},
   "outputs": [],
   "source": [
    "vect = CountVectorizer()\n",
    "tf_idf = TfidfTransformer()\n",
    "X_train2 = vect.fit_transform(X_train)\n",
    "X_train2 = tf_idf.fit_transform(X_train2)"
   ]
  },
  {
   "cell_type": "code",
   "execution_count": 10,
   "id": "prime-explanation",
   "metadata": {},
   "outputs": [
    {
     "name": "stderr",
     "output_type": "stream",
     "text": [
      "100%|██████████| 159571/159571 [01:29<00:00, 1787.72it/s]\n"
     ]
    }
   ],
   "source": [
    "X_train3 = vect_to_matrix(X_train2,0,X_train2.shape[0])"
   ]
  },
  {
   "cell_type": "code",
   "execution_count": 12,
   "id": "victorian-wales",
   "metadata": {},
   "outputs": [],
   "source": [
    "X_train4 = X_train3\n",
    "y_train4 = y_train3"
   ]
  },
  {
   "cell_type": "code",
   "execution_count": 20,
   "id": "reasonable-secondary",
   "metadata": {},
   "outputs": [],
   "source": [
    "device = torch.device(\"cpu\")\n",
    "net = nn.Sequential(nn.Linear(198959,64),nn.ReLU(),nn.Linear(64,32),nn.ReLU(),nn.Linear(32,2),nn.Softmax(dim=1))\n",
    "\n",
    "loss = nn.CrossEntropyLoss(weight = torch.tensor([1,2],dtype= torch.float))\n",
    "\n",
    "optimizer = torch.optim.Adam(net.parameters(),lr = 1e-3, weight_decay=1e-3)\n",
    "\n",
    "net = net.to(device)\n",
    "loss = loss.to(device)"
   ]
  },
  {
   "cell_type": "code",
   "execution_count": 21,
   "id": "accredited-brand",
   "metadata": {},
   "outputs": [
    {
     "name": "stderr",
     "output_type": "stream",
     "text": [
      "100%|██████████| 7/7 [00:00<00:00, 21.69it/s]\n"
     ]
    }
   ],
   "source": [
    "for j in range(1):\n",
    "    # for i in tqdm(range(0,X_train2.shape[0],16)):\n",
    "    for i in tqdm(range(0,100,16)):\n",
    "        batch = torch.cat(X_train4[i:i+16])\n",
    "        batch_y = y_train4[i:i+16]\n",
    "        batch = batch.to(device)\n",
    "        batch_y = batch_y.to(device)\n",
    "        L = train_loop(batch,batch_y,optimizer,loss,net)"
   ]
  },
  {
   "cell_type": "code",
   "execution_count": 15,
   "id": "mediterranean-master",
   "metadata": {},
   "outputs": [],
   "source": [
    "saved_dict = {}\n",
    "saved_dict['model'] = net\n",
    "saved_dict['vectorizer'] = vect\n",
    "saved_dict['tf_idf'] = tf_idf\n",
    "torch.save(saved_dict,'train_model.temp.pt')"
   ]
  },
  {
   "cell_type": "markdown",
   "id": "humanitarian-telling",
   "metadata": {},
   "source": [
    "## TEST"
   ]
  },
  {
   "cell_type": "code",
   "execution_count": 22,
   "id": "diverse-induction",
   "metadata": {},
   "outputs": [],
   "source": [
    "load_dict1 = torch.load('train_model.03.pt')"
   ]
  },
  {
   "cell_type": "code",
   "execution_count": 23,
   "id": "senior-finnish",
   "metadata": {},
   "outputs": [],
   "source": [
    "net = load_dict1['model']\n",
    "vect = load_dict1['vectorizer']\n",
    "tf_idf = load_dict1['tf_idf']"
   ]
  },
  {
   "cell_type": "code",
   "execution_count": 24,
   "id": "random-massage",
   "metadata": {},
   "outputs": [],
   "source": [
    "test = pd.read_csv(\"Project_test.csv\")\n",
    "test_labels = pd.read_csv(\"Project_test_labels.csv\")\n",
    "\n",
    "test_new = test.merge(test_labels,on = 'id')\n",
    "\n",
    "test_new = test_new[test_new.toxic != -1]\n",
    "test_new.reset_index( drop = True, inplace = True)"
   ]
  },
  {
   "cell_type": "code",
   "execution_count": 25,
   "id": "going-henry",
   "metadata": {},
   "outputs": [],
   "source": [
    "merge1 = test_new.iloc[:,0:2]\n",
    "corpus1 = merge1.comment_text\n",
    "clean_corpus1 = corpus1.apply(lambda x :clean(x))\n",
    "X_test = clean_corpus1\n",
    "y_test = test_new.toxic"
   ]
  },
  {
   "cell_type": "code",
   "execution_count": 26,
   "id": "romance-packaging",
   "metadata": {},
   "outputs": [],
   "source": [
    "y_test3 = torch.tensor(y_test,dtype = torch.long)"
   ]
  },
  {
   "cell_type": "code",
   "execution_count": 27,
   "id": "acoustic-preserve",
   "metadata": {},
   "outputs": [],
   "source": [
    "X_test2 = vect.transform(X_test)\n",
    "X_test2 = tf_idf.transform(X_test2)"
   ]
  },
  {
   "cell_type": "code",
   "execution_count": 28,
   "id": "fifteen-attribute",
   "metadata": {},
   "outputs": [
    {
     "name": "stderr",
     "output_type": "stream",
     "text": [
      "100%|██████████| 63978/63978 [00:35<00:00, 1800.27it/s]\n"
     ]
    }
   ],
   "source": [
    "X_test3 = vect_to_matrix(X_test2,0,X_test2.shape[0])"
   ]
  },
  {
   "cell_type": "code",
   "execution_count": 29,
   "id": "lasting-sierra",
   "metadata": {},
   "outputs": [],
   "source": [
    "def test_loop(batch,batch_y,net):\n",
    "    net.eval()\n",
    "    with torch.no_grad():\n",
    "        out = net(batch)\n",
    "        \n",
    "    _,y_predicted = torch.topk(out,1,dim = 1) \n",
    "    correct = batch_y == y_predicted.squeeze(1)\n",
    "   \n",
    "    \n",
    "    return y_predicted.squeeze(1)"
   ]
  },
  {
   "cell_type": "code",
   "execution_count": 30,
   "id": "wired-exploration",
   "metadata": {},
   "outputs": [
    {
     "name": "stderr",
     "output_type": "stream",
     "text": [
      "100%|██████████| 15995/15995 [00:58<00:00, 272.54it/s]\n"
     ]
    }
   ],
   "source": [
    "y_all_pred = []\n",
    "for i in tqdm(range(0,X_test2.shape[0],4)):\n",
    "    batch = torch.cat(X_test3[i:i+4])\n",
    "    batch_y = y_test3[i:i+4]\n",
    "    y_pred = test_loop(batch,batch_y,net)\n",
    "    y_all_pred.extend(y_pred.tolist())"
   ]
  },
  {
   "cell_type": "code",
   "execution_count": 31,
   "id": "beautiful-reminder",
   "metadata": {},
   "outputs": [
    {
     "name": "stdout",
     "output_type": "stream",
     "text": [
      "              precision    recall  f1-score   support\n",
      "\n",
      "           0       0.97      0.95      0.96     57888\n",
      "           1       0.60      0.72      0.65      6090\n",
      "\n",
      "    accuracy                           0.93     63978\n",
      "   macro avg       0.78      0.83      0.81     63978\n",
      "weighted avg       0.93      0.93      0.93     63978\n",
      "\n"
     ]
    }
   ],
   "source": [
    "from sklearn.metrics import classification_report\n",
    "print(classification_report(y_test3.tolist(), y_all_pred))"
   ]
  },
  {
   "cell_type": "code",
   "execution_count": null,
   "id": "1488bd17-0947-49f7-99a8-82ff6171bb30",
   "metadata": {},
   "outputs": [],
   "source": []
  }
 ],
 "metadata": {
  "kernelspec": {
   "display_name": "Python 3",
   "language": "python",
   "name": "python3"
  },
  "language_info": {
   "codemirror_mode": {
    "name": "ipython",
    "version": 3
   },
   "file_extension": ".py",
   "mimetype": "text/x-python",
   "name": "python",
   "nbconvert_exporter": "python",
   "pygments_lexer": "ipython3",
   "version": "3.9.7"
  }
 },
 "nbformat": 4,
 "nbformat_minor": 5
}
