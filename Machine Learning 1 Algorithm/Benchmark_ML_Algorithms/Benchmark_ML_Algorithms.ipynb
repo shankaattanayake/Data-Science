{
 "cells": [
  {
   "cell_type": "markdown",
   "metadata": {},
   "source": [
    "## Benchmark Top ML Algorithms\n"
   ]
  },
  {
   "cell_type": "markdown",
   "metadata": {},
   "source": [
    "### Dataset\n",
    "Predict Loan Eligibility for Dream Housing Finance company\n"
   ]
  },
  {
   "cell_type": "markdown",
   "metadata": {},
   "source": [
    "\n",
    "### ML algorithms\n",
    "- Decision Tree\n",
    "- KNN\n",
    "- Logistic Regression\n",
    "- SVM\n",
    "- Random Forest"
   ]
  },
  {
   "cell_type": "markdown",
   "metadata": {},
   "source": [
    "### Using GridSearchCV for finding the best model with the best hyperparameters"
   ]
  },
  {
   "cell_type": "markdown",
   "metadata": {},
   "source": [
    "- ### Build models\n",
    "- ### Create Parameter Grid\n",
    "- ### Run GridSearchCV\n",
    "- ### Choose the best model with the best hyperparameter\n",
    "- ### Give the best accuracy\n",
    "- ### Also, benchmark the best accuracy that you could get for every classification algorithm asked above"
   ]
  },
  {
   "cell_type": "markdown",
   "metadata": {},
   "source": [
    "## Importing Data"
   ]
  },
  {
   "cell_type": "code",
   "execution_count": 2,
   "metadata": {},
   "outputs": [
    {
     "data": {
      "text/html": [
       "<div>\n",
       "<style scoped>\n",
       "    .dataframe tbody tr th:only-of-type {\n",
       "        vertical-align: middle;\n",
       "    }\n",
       "\n",
       "    .dataframe tbody tr th {\n",
       "        vertical-align: top;\n",
       "    }\n",
       "\n",
       "    .dataframe thead th {\n",
       "        text-align: right;\n",
       "    }\n",
       "</style>\n",
       "<table border=\"1\" class=\"dataframe\">\n",
       "  <thead>\n",
       "    <tr style=\"text-align: right;\">\n",
       "      <th></th>\n",
       "      <th>Loan_ID</th>\n",
       "      <th>Gender</th>\n",
       "      <th>Married</th>\n",
       "      <th>Dependents</th>\n",
       "      <th>Education</th>\n",
       "      <th>Self_Employed</th>\n",
       "      <th>ApplicantIncome</th>\n",
       "      <th>CoapplicantIncome</th>\n",
       "      <th>LoanAmount</th>\n",
       "      <th>Loan_Amount_Term</th>\n",
       "      <th>Credit_History</th>\n",
       "      <th>Property_Area</th>\n",
       "      <th>Loan_Status</th>\n",
       "    </tr>\n",
       "  </thead>\n",
       "  <tbody>\n",
       "    <tr>\n",
       "      <th>0</th>\n",
       "      <td>LP001002</td>\n",
       "      <td>Male</td>\n",
       "      <td>No</td>\n",
       "      <td>0</td>\n",
       "      <td>Graduate</td>\n",
       "      <td>No</td>\n",
       "      <td>5849</td>\n",
       "      <td>0.0</td>\n",
       "      <td>NaN</td>\n",
       "      <td>360.0</td>\n",
       "      <td>1.0</td>\n",
       "      <td>Urban</td>\n",
       "      <td>Y</td>\n",
       "    </tr>\n",
       "    <tr>\n",
       "      <th>1</th>\n",
       "      <td>LP001003</td>\n",
       "      <td>Male</td>\n",
       "      <td>Yes</td>\n",
       "      <td>1</td>\n",
       "      <td>Graduate</td>\n",
       "      <td>No</td>\n",
       "      <td>4583</td>\n",
       "      <td>1508.0</td>\n",
       "      <td>128.0</td>\n",
       "      <td>360.0</td>\n",
       "      <td>1.0</td>\n",
       "      <td>Rural</td>\n",
       "      <td>N</td>\n",
       "    </tr>\n",
       "    <tr>\n",
       "      <th>2</th>\n",
       "      <td>LP001005</td>\n",
       "      <td>Male</td>\n",
       "      <td>Yes</td>\n",
       "      <td>0</td>\n",
       "      <td>Graduate</td>\n",
       "      <td>Yes</td>\n",
       "      <td>3000</td>\n",
       "      <td>0.0</td>\n",
       "      <td>66.0</td>\n",
       "      <td>360.0</td>\n",
       "      <td>1.0</td>\n",
       "      <td>Urban</td>\n",
       "      <td>Y</td>\n",
       "    </tr>\n",
       "    <tr>\n",
       "      <th>3</th>\n",
       "      <td>LP001006</td>\n",
       "      <td>Male</td>\n",
       "      <td>Yes</td>\n",
       "      <td>0</td>\n",
       "      <td>Not Graduate</td>\n",
       "      <td>No</td>\n",
       "      <td>2583</td>\n",
       "      <td>2358.0</td>\n",
       "      <td>120.0</td>\n",
       "      <td>360.0</td>\n",
       "      <td>1.0</td>\n",
       "      <td>Urban</td>\n",
       "      <td>Y</td>\n",
       "    </tr>\n",
       "    <tr>\n",
       "      <th>4</th>\n",
       "      <td>LP001008</td>\n",
       "      <td>Male</td>\n",
       "      <td>No</td>\n",
       "      <td>0</td>\n",
       "      <td>Graduate</td>\n",
       "      <td>No</td>\n",
       "      <td>6000</td>\n",
       "      <td>0.0</td>\n",
       "      <td>141.0</td>\n",
       "      <td>360.0</td>\n",
       "      <td>1.0</td>\n",
       "      <td>Urban</td>\n",
       "      <td>Y</td>\n",
       "    </tr>\n",
       "    <tr>\n",
       "      <th>...</th>\n",
       "      <td>...</td>\n",
       "      <td>...</td>\n",
       "      <td>...</td>\n",
       "      <td>...</td>\n",
       "      <td>...</td>\n",
       "      <td>...</td>\n",
       "      <td>...</td>\n",
       "      <td>...</td>\n",
       "      <td>...</td>\n",
       "      <td>...</td>\n",
       "      <td>...</td>\n",
       "      <td>...</td>\n",
       "      <td>...</td>\n",
       "    </tr>\n",
       "    <tr>\n",
       "      <th>609</th>\n",
       "      <td>LP002978</td>\n",
       "      <td>Female</td>\n",
       "      <td>No</td>\n",
       "      <td>0</td>\n",
       "      <td>Graduate</td>\n",
       "      <td>No</td>\n",
       "      <td>2900</td>\n",
       "      <td>0.0</td>\n",
       "      <td>71.0</td>\n",
       "      <td>360.0</td>\n",
       "      <td>1.0</td>\n",
       "      <td>Rural</td>\n",
       "      <td>Y</td>\n",
       "    </tr>\n",
       "    <tr>\n",
       "      <th>610</th>\n",
       "      <td>LP002979</td>\n",
       "      <td>Male</td>\n",
       "      <td>Yes</td>\n",
       "      <td>3+</td>\n",
       "      <td>Graduate</td>\n",
       "      <td>No</td>\n",
       "      <td>4106</td>\n",
       "      <td>0.0</td>\n",
       "      <td>40.0</td>\n",
       "      <td>180.0</td>\n",
       "      <td>1.0</td>\n",
       "      <td>Rural</td>\n",
       "      <td>Y</td>\n",
       "    </tr>\n",
       "    <tr>\n",
       "      <th>611</th>\n",
       "      <td>LP002983</td>\n",
       "      <td>Male</td>\n",
       "      <td>Yes</td>\n",
       "      <td>1</td>\n",
       "      <td>Graduate</td>\n",
       "      <td>No</td>\n",
       "      <td>8072</td>\n",
       "      <td>240.0</td>\n",
       "      <td>253.0</td>\n",
       "      <td>360.0</td>\n",
       "      <td>1.0</td>\n",
       "      <td>Urban</td>\n",
       "      <td>Y</td>\n",
       "    </tr>\n",
       "    <tr>\n",
       "      <th>612</th>\n",
       "      <td>LP002984</td>\n",
       "      <td>Male</td>\n",
       "      <td>Yes</td>\n",
       "      <td>2</td>\n",
       "      <td>Graduate</td>\n",
       "      <td>No</td>\n",
       "      <td>7583</td>\n",
       "      <td>0.0</td>\n",
       "      <td>187.0</td>\n",
       "      <td>360.0</td>\n",
       "      <td>1.0</td>\n",
       "      <td>Urban</td>\n",
       "      <td>Y</td>\n",
       "    </tr>\n",
       "    <tr>\n",
       "      <th>613</th>\n",
       "      <td>LP002990</td>\n",
       "      <td>Female</td>\n",
       "      <td>No</td>\n",
       "      <td>0</td>\n",
       "      <td>Graduate</td>\n",
       "      <td>Yes</td>\n",
       "      <td>4583</td>\n",
       "      <td>0.0</td>\n",
       "      <td>133.0</td>\n",
       "      <td>360.0</td>\n",
       "      <td>0.0</td>\n",
       "      <td>Semiurban</td>\n",
       "      <td>N</td>\n",
       "    </tr>\n",
       "  </tbody>\n",
       "</table>\n",
       "<p>614 rows × 13 columns</p>\n",
       "</div>"
      ],
      "text/plain": [
       "      Loan_ID  Gender Married Dependents     Education Self_Employed  \\\n",
       "0    LP001002    Male      No          0      Graduate            No   \n",
       "1    LP001003    Male     Yes          1      Graduate            No   \n",
       "2    LP001005    Male     Yes          0      Graduate           Yes   \n",
       "3    LP001006    Male     Yes          0  Not Graduate            No   \n",
       "4    LP001008    Male      No          0      Graduate            No   \n",
       "..        ...     ...     ...        ...           ...           ...   \n",
       "609  LP002978  Female      No          0      Graduate            No   \n",
       "610  LP002979    Male     Yes         3+      Graduate            No   \n",
       "611  LP002983    Male     Yes          1      Graduate            No   \n",
       "612  LP002984    Male     Yes          2      Graduate            No   \n",
       "613  LP002990  Female      No          0      Graduate           Yes   \n",
       "\n",
       "     ApplicantIncome  CoapplicantIncome  LoanAmount  Loan_Amount_Term  \\\n",
       "0               5849                0.0         NaN             360.0   \n",
       "1               4583             1508.0       128.0             360.0   \n",
       "2               3000                0.0        66.0             360.0   \n",
       "3               2583             2358.0       120.0             360.0   \n",
       "4               6000                0.0       141.0             360.0   \n",
       "..               ...                ...         ...               ...   \n",
       "609             2900                0.0        71.0             360.0   \n",
       "610             4106                0.0        40.0             180.0   \n",
       "611             8072              240.0       253.0             360.0   \n",
       "612             7583                0.0       187.0             360.0   \n",
       "613             4583                0.0       133.0             360.0   \n",
       "\n",
       "     Credit_History Property_Area Loan_Status  \n",
       "0               1.0         Urban           Y  \n",
       "1               1.0         Rural           N  \n",
       "2               1.0         Urban           Y  \n",
       "3               1.0         Urban           Y  \n",
       "4               1.0         Urban           Y  \n",
       "..              ...           ...         ...  \n",
       "609             1.0         Rural           Y  \n",
       "610             1.0         Rural           Y  \n",
       "611             1.0         Urban           Y  \n",
       "612             1.0         Urban           Y  \n",
       "613             0.0     Semiurban           N  \n",
       "\n",
       "[614 rows x 13 columns]"
      ]
     },
     "execution_count": 2,
     "metadata": {},
     "output_type": "execute_result"
    }
   ],
   "source": [
    "import pandas as pd\n",
    "import numpy as np\n",
    "import pandas as pd \n",
    "import seaborn as sns\n",
    "import matplotlib.pyplot as plt\n",
    "import scipy.stats as ss\n",
    "from collections import Counter\n",
    "import math\n",
    "from scipy import stats\n",
    "url= \"https://raw.githubusercontent.com/subashgandyer/datasets/main/loan_train.csv\"\n",
    "df = pd.read_csv(url)\n",
    "df_transform = pd.DataFrame(data=df)\n",
    "df_transform"
   ]
  },
  {
   "cell_type": "markdown",
   "metadata": {},
   "source": [
    "## Finding The Completeness of The Dataset"
   ]
  },
  {
   "cell_type": "code",
   "execution_count": 4,
   "metadata": {},
   "outputs": [
    {
     "name": "stdout",
     "output_type": "stream",
     "text": [
      "Feature 1 >> Missing entries: 0  |  Percentage: 0.0\n",
      "Feature 2 >> Missing entries: 13  |  Percentage: 2.12\n",
      "Feature 3 >> Missing entries: 3  |  Percentage: 0.49\n",
      "Feature 4 >> Missing entries: 15  |  Percentage: 2.44\n",
      "Feature 5 >> Missing entries: 0  |  Percentage: 0.0\n",
      "Feature 6 >> Missing entries: 32  |  Percentage: 5.21\n",
      "Feature 7 >> Missing entries: 0  |  Percentage: 0.0\n",
      "Feature 8 >> Missing entries: 0  |  Percentage: 0.0\n",
      "Feature 9 >> Missing entries: 22  |  Percentage: 3.58\n",
      "Feature 10 >> Missing entries: 14  |  Percentage: 2.28\n",
      "Feature 11 >> Missing entries: 50  |  Percentage: 8.14\n",
      "Feature 12 >> Missing entries: 0  |  Percentage: 0.0\n",
      "Feature 13 >> Missing entries: 0  |  Percentage: 0.0\n"
     ]
    }
   ],
   "source": [
    "for i in range(len(df.columns)):\n",
    "    missing_data = df[df.columns[i]].isna().sum()\n",
    "    perc = missing_data / len(df) * 100\n",
    "    print(f'Feature {i+1} >> Missing entries: {missing_data}  |  Percentage: {round(perc, 2)}')\n"
   ]
  },
  {
   "cell_type": "markdown",
   "metadata": {},
   "source": [
    "## Cleaning Dataset"
   ]
  },
  {
   "cell_type": "code",
   "execution_count": 5,
   "metadata": {},
   "outputs": [
    {
     "data": {
      "text/html": [
       "<div>\n",
       "<style scoped>\n",
       "    .dataframe tbody tr th:only-of-type {\n",
       "        vertical-align: middle;\n",
       "    }\n",
       "\n",
       "    .dataframe tbody tr th {\n",
       "        vertical-align: top;\n",
       "    }\n",
       "\n",
       "    .dataframe thead th {\n",
       "        text-align: right;\n",
       "    }\n",
       "</style>\n",
       "<table border=\"1\" class=\"dataframe\">\n",
       "  <thead>\n",
       "    <tr style=\"text-align: right;\">\n",
       "      <th></th>\n",
       "      <th>Loan_ID</th>\n",
       "      <th>Gender</th>\n",
       "      <th>Married</th>\n",
       "      <th>Dependents</th>\n",
       "      <th>Education</th>\n",
       "      <th>Self_Employed</th>\n",
       "      <th>ApplicantIncome</th>\n",
       "      <th>CoapplicantIncome</th>\n",
       "      <th>LoanAmount</th>\n",
       "      <th>Loan_Amount_Term</th>\n",
       "      <th>Credit_History</th>\n",
       "      <th>Property_Area</th>\n",
       "      <th>Loan_Status</th>\n",
       "    </tr>\n",
       "  </thead>\n",
       "  <tbody>\n",
       "    <tr>\n",
       "      <th>1</th>\n",
       "      <td>LP001003</td>\n",
       "      <td>Male</td>\n",
       "      <td>Yes</td>\n",
       "      <td>1</td>\n",
       "      <td>Graduate</td>\n",
       "      <td>No</td>\n",
       "      <td>4583</td>\n",
       "      <td>1508.0</td>\n",
       "      <td>128.0</td>\n",
       "      <td>360.0</td>\n",
       "      <td>1.0</td>\n",
       "      <td>Rural</td>\n",
       "      <td>N</td>\n",
       "    </tr>\n",
       "    <tr>\n",
       "      <th>2</th>\n",
       "      <td>LP001005</td>\n",
       "      <td>Male</td>\n",
       "      <td>Yes</td>\n",
       "      <td>0</td>\n",
       "      <td>Graduate</td>\n",
       "      <td>Yes</td>\n",
       "      <td>3000</td>\n",
       "      <td>0.0</td>\n",
       "      <td>66.0</td>\n",
       "      <td>360.0</td>\n",
       "      <td>1.0</td>\n",
       "      <td>Urban</td>\n",
       "      <td>Y</td>\n",
       "    </tr>\n",
       "    <tr>\n",
       "      <th>3</th>\n",
       "      <td>LP001006</td>\n",
       "      <td>Male</td>\n",
       "      <td>Yes</td>\n",
       "      <td>0</td>\n",
       "      <td>Not Graduate</td>\n",
       "      <td>No</td>\n",
       "      <td>2583</td>\n",
       "      <td>2358.0</td>\n",
       "      <td>120.0</td>\n",
       "      <td>360.0</td>\n",
       "      <td>1.0</td>\n",
       "      <td>Urban</td>\n",
       "      <td>Y</td>\n",
       "    </tr>\n",
       "    <tr>\n",
       "      <th>4</th>\n",
       "      <td>LP001008</td>\n",
       "      <td>Male</td>\n",
       "      <td>No</td>\n",
       "      <td>0</td>\n",
       "      <td>Graduate</td>\n",
       "      <td>No</td>\n",
       "      <td>6000</td>\n",
       "      <td>0.0</td>\n",
       "      <td>141.0</td>\n",
       "      <td>360.0</td>\n",
       "      <td>1.0</td>\n",
       "      <td>Urban</td>\n",
       "      <td>Y</td>\n",
       "    </tr>\n",
       "    <tr>\n",
       "      <th>5</th>\n",
       "      <td>LP001011</td>\n",
       "      <td>Male</td>\n",
       "      <td>Yes</td>\n",
       "      <td>2</td>\n",
       "      <td>Graduate</td>\n",
       "      <td>Yes</td>\n",
       "      <td>5417</td>\n",
       "      <td>4196.0</td>\n",
       "      <td>267.0</td>\n",
       "      <td>360.0</td>\n",
       "      <td>1.0</td>\n",
       "      <td>Urban</td>\n",
       "      <td>Y</td>\n",
       "    </tr>\n",
       "    <tr>\n",
       "      <th>...</th>\n",
       "      <td>...</td>\n",
       "      <td>...</td>\n",
       "      <td>...</td>\n",
       "      <td>...</td>\n",
       "      <td>...</td>\n",
       "      <td>...</td>\n",
       "      <td>...</td>\n",
       "      <td>...</td>\n",
       "      <td>...</td>\n",
       "      <td>...</td>\n",
       "      <td>...</td>\n",
       "      <td>...</td>\n",
       "      <td>...</td>\n",
       "    </tr>\n",
       "    <tr>\n",
       "      <th>609</th>\n",
       "      <td>LP002978</td>\n",
       "      <td>Female</td>\n",
       "      <td>No</td>\n",
       "      <td>0</td>\n",
       "      <td>Graduate</td>\n",
       "      <td>No</td>\n",
       "      <td>2900</td>\n",
       "      <td>0.0</td>\n",
       "      <td>71.0</td>\n",
       "      <td>360.0</td>\n",
       "      <td>1.0</td>\n",
       "      <td>Rural</td>\n",
       "      <td>Y</td>\n",
       "    </tr>\n",
       "    <tr>\n",
       "      <th>610</th>\n",
       "      <td>LP002979</td>\n",
       "      <td>Male</td>\n",
       "      <td>Yes</td>\n",
       "      <td>3+</td>\n",
       "      <td>Graduate</td>\n",
       "      <td>No</td>\n",
       "      <td>4106</td>\n",
       "      <td>0.0</td>\n",
       "      <td>40.0</td>\n",
       "      <td>180.0</td>\n",
       "      <td>1.0</td>\n",
       "      <td>Rural</td>\n",
       "      <td>Y</td>\n",
       "    </tr>\n",
       "    <tr>\n",
       "      <th>611</th>\n",
       "      <td>LP002983</td>\n",
       "      <td>Male</td>\n",
       "      <td>Yes</td>\n",
       "      <td>1</td>\n",
       "      <td>Graduate</td>\n",
       "      <td>No</td>\n",
       "      <td>8072</td>\n",
       "      <td>240.0</td>\n",
       "      <td>253.0</td>\n",
       "      <td>360.0</td>\n",
       "      <td>1.0</td>\n",
       "      <td>Urban</td>\n",
       "      <td>Y</td>\n",
       "    </tr>\n",
       "    <tr>\n",
       "      <th>612</th>\n",
       "      <td>LP002984</td>\n",
       "      <td>Male</td>\n",
       "      <td>Yes</td>\n",
       "      <td>2</td>\n",
       "      <td>Graduate</td>\n",
       "      <td>No</td>\n",
       "      <td>7583</td>\n",
       "      <td>0.0</td>\n",
       "      <td>187.0</td>\n",
       "      <td>360.0</td>\n",
       "      <td>1.0</td>\n",
       "      <td>Urban</td>\n",
       "      <td>Y</td>\n",
       "    </tr>\n",
       "    <tr>\n",
       "      <th>613</th>\n",
       "      <td>LP002990</td>\n",
       "      <td>Female</td>\n",
       "      <td>No</td>\n",
       "      <td>0</td>\n",
       "      <td>Graduate</td>\n",
       "      <td>Yes</td>\n",
       "      <td>4583</td>\n",
       "      <td>0.0</td>\n",
       "      <td>133.0</td>\n",
       "      <td>360.0</td>\n",
       "      <td>0.0</td>\n",
       "      <td>Semiurban</td>\n",
       "      <td>N</td>\n",
       "    </tr>\n",
       "  </tbody>\n",
       "</table>\n",
       "<p>480 rows × 13 columns</p>\n",
       "</div>"
      ],
      "text/plain": [
       "      Loan_ID  Gender Married Dependents     Education Self_Employed  \\\n",
       "1    LP001003    Male     Yes          1      Graduate            No   \n",
       "2    LP001005    Male     Yes          0      Graduate           Yes   \n",
       "3    LP001006    Male     Yes          0  Not Graduate            No   \n",
       "4    LP001008    Male      No          0      Graduate            No   \n",
       "5    LP001011    Male     Yes          2      Graduate           Yes   \n",
       "..        ...     ...     ...        ...           ...           ...   \n",
       "609  LP002978  Female      No          0      Graduate            No   \n",
       "610  LP002979    Male     Yes         3+      Graduate            No   \n",
       "611  LP002983    Male     Yes          1      Graduate            No   \n",
       "612  LP002984    Male     Yes          2      Graduate            No   \n",
       "613  LP002990  Female      No          0      Graduate           Yes   \n",
       "\n",
       "     ApplicantIncome  CoapplicantIncome  LoanAmount  Loan_Amount_Term  \\\n",
       "1               4583             1508.0       128.0             360.0   \n",
       "2               3000                0.0        66.0             360.0   \n",
       "3               2583             2358.0       120.0             360.0   \n",
       "4               6000                0.0       141.0             360.0   \n",
       "5               5417             4196.0       267.0             360.0   \n",
       "..               ...                ...         ...               ...   \n",
       "609             2900                0.0        71.0             360.0   \n",
       "610             4106                0.0        40.0             180.0   \n",
       "611             8072              240.0       253.0             360.0   \n",
       "612             7583                0.0       187.0             360.0   \n",
       "613             4583                0.0       133.0             360.0   \n",
       "\n",
       "     Credit_History Property_Area Loan_Status  \n",
       "1               1.0         Rural           N  \n",
       "2               1.0         Urban           Y  \n",
       "3               1.0         Urban           Y  \n",
       "4               1.0         Urban           Y  \n",
       "5               1.0         Urban           Y  \n",
       "..              ...           ...         ...  \n",
       "609             1.0         Rural           Y  \n",
       "610             1.0         Rural           Y  \n",
       "611             1.0         Urban           Y  \n",
       "612             1.0         Urban           Y  \n",
       "613             0.0     Semiurban           N  \n",
       "\n",
       "[480 rows x 13 columns]"
      ]
     },
     "execution_count": 5,
     "metadata": {},
     "output_type": "execute_result"
    }
   ],
   "source": [
    "cleaned_data = df_transform.dropna(axis = 0, how ='any') \n",
    "cleaned_data"
   ]
  },
  {
   "cell_type": "code",
   "execution_count": 6,
   "metadata": {},
   "outputs": [
    {
     "name": "stdout",
     "output_type": "stream",
     "text": [
      "<class 'pandas.core.frame.DataFrame'>\n",
      "Int64Index: 480 entries, 1 to 613\n",
      "Data columns (total 13 columns):\n",
      " #   Column             Non-Null Count  Dtype  \n",
      "---  ------             --------------  -----  \n",
      " 0   Loan_ID            480 non-null    object \n",
      " 1   Gender             480 non-null    object \n",
      " 2   Married            480 non-null    object \n",
      " 3   Dependents         480 non-null    object \n",
      " 4   Education          480 non-null    object \n",
      " 5   Self_Employed      480 non-null    object \n",
      " 6   ApplicantIncome    480 non-null    int64  \n",
      " 7   CoapplicantIncome  480 non-null    float64\n",
      " 8   LoanAmount         480 non-null    float64\n",
      " 9   Loan_Amount_Term   480 non-null    float64\n",
      " 10  Credit_History     480 non-null    float64\n",
      " 11  Property_Area      480 non-null    object \n",
      " 12  Loan_Status        480 non-null    object \n",
      "dtypes: float64(4), int64(1), object(8)\n",
      "memory usage: 52.5+ KB\n"
     ]
    }
   ],
   "source": [
    "cleaned_data.info()"
   ]
  },
  {
   "cell_type": "code",
   "execution_count": 7,
   "metadata": {},
   "outputs": [
    {
     "name": "stdout",
     "output_type": "stream",
     "text": [
      "Feature 1 >> Missing entries: 0  |  Percentage: 0.0\n",
      "Feature 2 >> Missing entries: 0  |  Percentage: 0.0\n",
      "Feature 3 >> Missing entries: 0  |  Percentage: 0.0\n",
      "Feature 4 >> Missing entries: 0  |  Percentage: 0.0\n",
      "Feature 5 >> Missing entries: 0  |  Percentage: 0.0\n",
      "Feature 6 >> Missing entries: 0  |  Percentage: 0.0\n",
      "Feature 7 >> Missing entries: 0  |  Percentage: 0.0\n",
      "Feature 8 >> Missing entries: 0  |  Percentage: 0.0\n",
      "Feature 9 >> Missing entries: 0  |  Percentage: 0.0\n",
      "Feature 10 >> Missing entries: 0  |  Percentage: 0.0\n",
      "Feature 11 >> Missing entries: 0  |  Percentage: 0.0\n",
      "Feature 12 >> Missing entries: 0  |  Percentage: 0.0\n",
      "Feature 13 >> Missing entries: 0  |  Percentage: 0.0\n"
     ]
    }
   ],
   "source": [
    "for i in range(len(cleaned_data.columns)):\n",
    "    missing_data =cleaned_data[cleaned_data.columns[i]].isna().sum()\n",
    "    perc = missing_data / len(df) * 100\n",
    "    print(f'Feature {i+1} >> Missing entries: {missing_data}  |  Percentage: {round(perc, 2)}')"
   ]
  },
  {
   "cell_type": "markdown",
   "metadata": {},
   "source": [
    "## Using Label Encoder to Convert Dataset to an Acceptable Form"
   ]
  },
  {
   "cell_type": "code",
   "execution_count": 8,
   "metadata": {},
   "outputs": [
    {
     "name": "stderr",
     "output_type": "stream",
     "text": [
      "<ipython-input-8-7412455aab7a>:4: SettingWithCopyWarning: \n",
      "A value is trying to be set on a copy of a slice from a DataFrame.\n",
      "Try using .loc[row_indexer,col_indexer] = value instead\n",
      "\n",
      "See the caveats in the documentation: https://pandas.pydata.org/pandas-docs/stable/user_guide/indexing.html#returning-a-view-versus-a-copy\n",
      "  cleaned_data['Gender_Clean']= label_encoder.fit_transform(cleaned_data['Gender'])\n",
      "<ipython-input-8-7412455aab7a>:5: SettingWithCopyWarning: \n",
      "A value is trying to be set on a copy of a slice from a DataFrame.\n",
      "Try using .loc[row_indexer,col_indexer] = value instead\n",
      "\n",
      "See the caveats in the documentation: https://pandas.pydata.org/pandas-docs/stable/user_guide/indexing.html#returning-a-view-versus-a-copy\n",
      "  cleaned_data['Married_Clean']= label_encoder.fit_transform(cleaned_data['Married'])\n",
      "<ipython-input-8-7412455aab7a>:6: SettingWithCopyWarning: \n",
      "A value is trying to be set on a copy of a slice from a DataFrame.\n",
      "Try using .loc[row_indexer,col_indexer] = value instead\n",
      "\n",
      "See the caveats in the documentation: https://pandas.pydata.org/pandas-docs/stable/user_guide/indexing.html#returning-a-view-versus-a-copy\n",
      "  cleaned_data['Dependents_Clean']= label_encoder.fit_transform(cleaned_data['Dependents'])\n",
      "<ipython-input-8-7412455aab7a>:7: SettingWithCopyWarning: \n",
      "A value is trying to be set on a copy of a slice from a DataFrame.\n",
      "Try using .loc[row_indexer,col_indexer] = value instead\n",
      "\n",
      "See the caveats in the documentation: https://pandas.pydata.org/pandas-docs/stable/user_guide/indexing.html#returning-a-view-versus-a-copy\n",
      "  cleaned_data['Education_Clean']= label_encoder.fit_transform(cleaned_data['Education'])\n",
      "<ipython-input-8-7412455aab7a>:8: SettingWithCopyWarning: \n",
      "A value is trying to be set on a copy of a slice from a DataFrame.\n",
      "Try using .loc[row_indexer,col_indexer] = value instead\n",
      "\n",
      "See the caveats in the documentation: https://pandas.pydata.org/pandas-docs/stable/user_guide/indexing.html#returning-a-view-versus-a-copy\n",
      "  cleaned_data['Self_Employed_Clean']= label_encoder.fit_transform(cleaned_data['Self_Employed'])\n",
      "<ipython-input-8-7412455aab7a>:9: SettingWithCopyWarning: \n",
      "A value is trying to be set on a copy of a slice from a DataFrame.\n",
      "Try using .loc[row_indexer,col_indexer] = value instead\n",
      "\n",
      "See the caveats in the documentation: https://pandas.pydata.org/pandas-docs/stable/user_guide/indexing.html#returning-a-view-versus-a-copy\n",
      "  cleaned_data['Property_Area_Clean']= label_encoder.fit_transform(cleaned_data['Property_Area'])\n",
      "<ipython-input-8-7412455aab7a>:10: SettingWithCopyWarning: \n",
      "A value is trying to be set on a copy of a slice from a DataFrame.\n",
      "Try using .loc[row_indexer,col_indexer] = value instead\n",
      "\n",
      "See the caveats in the documentation: https://pandas.pydata.org/pandas-docs/stable/user_guide/indexing.html#returning-a-view-versus-a-copy\n",
      "  cleaned_data['Loan_Status_Clean']= label_encoder.fit_transform(cleaned_data['Loan_Status'])\n"
     ]
    }
   ],
   "source": [
    "from sklearn import preprocessing\n",
    "label_encoder = preprocessing.LabelEncoder()\n",
    "\n",
    "cleaned_data['Gender_Clean']= label_encoder.fit_transform(cleaned_data['Gender'])\n",
    "cleaned_data['Married_Clean']= label_encoder.fit_transform(cleaned_data['Married']) \n",
    "cleaned_data['Dependents_Clean']= label_encoder.fit_transform(cleaned_data['Dependents'])\n",
    "cleaned_data['Education_Clean']= label_encoder.fit_transform(cleaned_data['Education'])\n",
    "cleaned_data['Self_Employed_Clean']= label_encoder.fit_transform(cleaned_data['Self_Employed'])\n",
    "cleaned_data['Property_Area_Clean']= label_encoder.fit_transform(cleaned_data['Property_Area'])\n",
    "cleaned_data['Loan_Status_Clean']= label_encoder.fit_transform(cleaned_data['Loan_Status'])\n",
    "\n"
   ]
  },
  {
   "cell_type": "code",
   "execution_count": 9,
   "metadata": {},
   "outputs": [
    {
     "data": {
      "text/html": [
       "<div>\n",
       "<style scoped>\n",
       "    .dataframe tbody tr th:only-of-type {\n",
       "        vertical-align: middle;\n",
       "    }\n",
       "\n",
       "    .dataframe tbody tr th {\n",
       "        vertical-align: top;\n",
       "    }\n",
       "\n",
       "    .dataframe thead th {\n",
       "        text-align: right;\n",
       "    }\n",
       "</style>\n",
       "<table border=\"1\" class=\"dataframe\">\n",
       "  <thead>\n",
       "    <tr style=\"text-align: right;\">\n",
       "      <th></th>\n",
       "      <th>Loan_ID</th>\n",
       "      <th>Gender</th>\n",
       "      <th>Married</th>\n",
       "      <th>Dependents</th>\n",
       "      <th>Education</th>\n",
       "      <th>Self_Employed</th>\n",
       "      <th>ApplicantIncome</th>\n",
       "      <th>CoapplicantIncome</th>\n",
       "      <th>LoanAmount</th>\n",
       "      <th>Loan_Amount_Term</th>\n",
       "      <th>Credit_History</th>\n",
       "      <th>Property_Area</th>\n",
       "      <th>Loan_Status</th>\n",
       "      <th>Gender_Clean</th>\n",
       "      <th>Married_Clean</th>\n",
       "      <th>Dependents_Clean</th>\n",
       "      <th>Education_Clean</th>\n",
       "      <th>Self_Employed_Clean</th>\n",
       "      <th>Property_Area_Clean</th>\n",
       "      <th>Loan_Status_Clean</th>\n",
       "    </tr>\n",
       "  </thead>\n",
       "  <tbody>\n",
       "    <tr>\n",
       "      <th>1</th>\n",
       "      <td>LP001003</td>\n",
       "      <td>Male</td>\n",
       "      <td>Yes</td>\n",
       "      <td>1</td>\n",
       "      <td>Graduate</td>\n",
       "      <td>No</td>\n",
       "      <td>4583</td>\n",
       "      <td>1508.0</td>\n",
       "      <td>128.0</td>\n",
       "      <td>360.0</td>\n",
       "      <td>1.0</td>\n",
       "      <td>Rural</td>\n",
       "      <td>N</td>\n",
       "      <td>1</td>\n",
       "      <td>1</td>\n",
       "      <td>1</td>\n",
       "      <td>0</td>\n",
       "      <td>0</td>\n",
       "      <td>0</td>\n",
       "      <td>0</td>\n",
       "    </tr>\n",
       "    <tr>\n",
       "      <th>2</th>\n",
       "      <td>LP001005</td>\n",
       "      <td>Male</td>\n",
       "      <td>Yes</td>\n",
       "      <td>0</td>\n",
       "      <td>Graduate</td>\n",
       "      <td>Yes</td>\n",
       "      <td>3000</td>\n",
       "      <td>0.0</td>\n",
       "      <td>66.0</td>\n",
       "      <td>360.0</td>\n",
       "      <td>1.0</td>\n",
       "      <td>Urban</td>\n",
       "      <td>Y</td>\n",
       "      <td>1</td>\n",
       "      <td>1</td>\n",
       "      <td>0</td>\n",
       "      <td>0</td>\n",
       "      <td>1</td>\n",
       "      <td>2</td>\n",
       "      <td>1</td>\n",
       "    </tr>\n",
       "    <tr>\n",
       "      <th>3</th>\n",
       "      <td>LP001006</td>\n",
       "      <td>Male</td>\n",
       "      <td>Yes</td>\n",
       "      <td>0</td>\n",
       "      <td>Not Graduate</td>\n",
       "      <td>No</td>\n",
       "      <td>2583</td>\n",
       "      <td>2358.0</td>\n",
       "      <td>120.0</td>\n",
       "      <td>360.0</td>\n",
       "      <td>1.0</td>\n",
       "      <td>Urban</td>\n",
       "      <td>Y</td>\n",
       "      <td>1</td>\n",
       "      <td>1</td>\n",
       "      <td>0</td>\n",
       "      <td>1</td>\n",
       "      <td>0</td>\n",
       "      <td>2</td>\n",
       "      <td>1</td>\n",
       "    </tr>\n",
       "    <tr>\n",
       "      <th>4</th>\n",
       "      <td>LP001008</td>\n",
       "      <td>Male</td>\n",
       "      <td>No</td>\n",
       "      <td>0</td>\n",
       "      <td>Graduate</td>\n",
       "      <td>No</td>\n",
       "      <td>6000</td>\n",
       "      <td>0.0</td>\n",
       "      <td>141.0</td>\n",
       "      <td>360.0</td>\n",
       "      <td>1.0</td>\n",
       "      <td>Urban</td>\n",
       "      <td>Y</td>\n",
       "      <td>1</td>\n",
       "      <td>0</td>\n",
       "      <td>0</td>\n",
       "      <td>0</td>\n",
       "      <td>0</td>\n",
       "      <td>2</td>\n",
       "      <td>1</td>\n",
       "    </tr>\n",
       "    <tr>\n",
       "      <th>5</th>\n",
       "      <td>LP001011</td>\n",
       "      <td>Male</td>\n",
       "      <td>Yes</td>\n",
       "      <td>2</td>\n",
       "      <td>Graduate</td>\n",
       "      <td>Yes</td>\n",
       "      <td>5417</td>\n",
       "      <td>4196.0</td>\n",
       "      <td>267.0</td>\n",
       "      <td>360.0</td>\n",
       "      <td>1.0</td>\n",
       "      <td>Urban</td>\n",
       "      <td>Y</td>\n",
       "      <td>1</td>\n",
       "      <td>1</td>\n",
       "      <td>2</td>\n",
       "      <td>0</td>\n",
       "      <td>1</td>\n",
       "      <td>2</td>\n",
       "      <td>1</td>\n",
       "    </tr>\n",
       "    <tr>\n",
       "      <th>...</th>\n",
       "      <td>...</td>\n",
       "      <td>...</td>\n",
       "      <td>...</td>\n",
       "      <td>...</td>\n",
       "      <td>...</td>\n",
       "      <td>...</td>\n",
       "      <td>...</td>\n",
       "      <td>...</td>\n",
       "      <td>...</td>\n",
       "      <td>...</td>\n",
       "      <td>...</td>\n",
       "      <td>...</td>\n",
       "      <td>...</td>\n",
       "      <td>...</td>\n",
       "      <td>...</td>\n",
       "      <td>...</td>\n",
       "      <td>...</td>\n",
       "      <td>...</td>\n",
       "      <td>...</td>\n",
       "      <td>...</td>\n",
       "    </tr>\n",
       "    <tr>\n",
       "      <th>609</th>\n",
       "      <td>LP002978</td>\n",
       "      <td>Female</td>\n",
       "      <td>No</td>\n",
       "      <td>0</td>\n",
       "      <td>Graduate</td>\n",
       "      <td>No</td>\n",
       "      <td>2900</td>\n",
       "      <td>0.0</td>\n",
       "      <td>71.0</td>\n",
       "      <td>360.0</td>\n",
       "      <td>1.0</td>\n",
       "      <td>Rural</td>\n",
       "      <td>Y</td>\n",
       "      <td>0</td>\n",
       "      <td>0</td>\n",
       "      <td>0</td>\n",
       "      <td>0</td>\n",
       "      <td>0</td>\n",
       "      <td>0</td>\n",
       "      <td>1</td>\n",
       "    </tr>\n",
       "    <tr>\n",
       "      <th>610</th>\n",
       "      <td>LP002979</td>\n",
       "      <td>Male</td>\n",
       "      <td>Yes</td>\n",
       "      <td>3+</td>\n",
       "      <td>Graduate</td>\n",
       "      <td>No</td>\n",
       "      <td>4106</td>\n",
       "      <td>0.0</td>\n",
       "      <td>40.0</td>\n",
       "      <td>180.0</td>\n",
       "      <td>1.0</td>\n",
       "      <td>Rural</td>\n",
       "      <td>Y</td>\n",
       "      <td>1</td>\n",
       "      <td>1</td>\n",
       "      <td>3</td>\n",
       "      <td>0</td>\n",
       "      <td>0</td>\n",
       "      <td>0</td>\n",
       "      <td>1</td>\n",
       "    </tr>\n",
       "    <tr>\n",
       "      <th>611</th>\n",
       "      <td>LP002983</td>\n",
       "      <td>Male</td>\n",
       "      <td>Yes</td>\n",
       "      <td>1</td>\n",
       "      <td>Graduate</td>\n",
       "      <td>No</td>\n",
       "      <td>8072</td>\n",
       "      <td>240.0</td>\n",
       "      <td>253.0</td>\n",
       "      <td>360.0</td>\n",
       "      <td>1.0</td>\n",
       "      <td>Urban</td>\n",
       "      <td>Y</td>\n",
       "      <td>1</td>\n",
       "      <td>1</td>\n",
       "      <td>1</td>\n",
       "      <td>0</td>\n",
       "      <td>0</td>\n",
       "      <td>2</td>\n",
       "      <td>1</td>\n",
       "    </tr>\n",
       "    <tr>\n",
       "      <th>612</th>\n",
       "      <td>LP002984</td>\n",
       "      <td>Male</td>\n",
       "      <td>Yes</td>\n",
       "      <td>2</td>\n",
       "      <td>Graduate</td>\n",
       "      <td>No</td>\n",
       "      <td>7583</td>\n",
       "      <td>0.0</td>\n",
       "      <td>187.0</td>\n",
       "      <td>360.0</td>\n",
       "      <td>1.0</td>\n",
       "      <td>Urban</td>\n",
       "      <td>Y</td>\n",
       "      <td>1</td>\n",
       "      <td>1</td>\n",
       "      <td>2</td>\n",
       "      <td>0</td>\n",
       "      <td>0</td>\n",
       "      <td>2</td>\n",
       "      <td>1</td>\n",
       "    </tr>\n",
       "    <tr>\n",
       "      <th>613</th>\n",
       "      <td>LP002990</td>\n",
       "      <td>Female</td>\n",
       "      <td>No</td>\n",
       "      <td>0</td>\n",
       "      <td>Graduate</td>\n",
       "      <td>Yes</td>\n",
       "      <td>4583</td>\n",
       "      <td>0.0</td>\n",
       "      <td>133.0</td>\n",
       "      <td>360.0</td>\n",
       "      <td>0.0</td>\n",
       "      <td>Semiurban</td>\n",
       "      <td>N</td>\n",
       "      <td>0</td>\n",
       "      <td>0</td>\n",
       "      <td>0</td>\n",
       "      <td>0</td>\n",
       "      <td>1</td>\n",
       "      <td>1</td>\n",
       "      <td>0</td>\n",
       "    </tr>\n",
       "  </tbody>\n",
       "</table>\n",
       "<p>480 rows × 20 columns</p>\n",
       "</div>"
      ],
      "text/plain": [
       "      Loan_ID  Gender Married Dependents     Education Self_Employed  \\\n",
       "1    LP001003    Male     Yes          1      Graduate            No   \n",
       "2    LP001005    Male     Yes          0      Graduate           Yes   \n",
       "3    LP001006    Male     Yes          0  Not Graduate            No   \n",
       "4    LP001008    Male      No          0      Graduate            No   \n",
       "5    LP001011    Male     Yes          2      Graduate           Yes   \n",
       "..        ...     ...     ...        ...           ...           ...   \n",
       "609  LP002978  Female      No          0      Graduate            No   \n",
       "610  LP002979    Male     Yes         3+      Graduate            No   \n",
       "611  LP002983    Male     Yes          1      Graduate            No   \n",
       "612  LP002984    Male     Yes          2      Graduate            No   \n",
       "613  LP002990  Female      No          0      Graduate           Yes   \n",
       "\n",
       "     ApplicantIncome  CoapplicantIncome  LoanAmount  Loan_Amount_Term  \\\n",
       "1               4583             1508.0       128.0             360.0   \n",
       "2               3000                0.0        66.0             360.0   \n",
       "3               2583             2358.0       120.0             360.0   \n",
       "4               6000                0.0       141.0             360.0   \n",
       "5               5417             4196.0       267.0             360.0   \n",
       "..               ...                ...         ...               ...   \n",
       "609             2900                0.0        71.0             360.0   \n",
       "610             4106                0.0        40.0             180.0   \n",
       "611             8072              240.0       253.0             360.0   \n",
       "612             7583                0.0       187.0             360.0   \n",
       "613             4583                0.0       133.0             360.0   \n",
       "\n",
       "     Credit_History Property_Area Loan_Status  Gender_Clean  Married_Clean  \\\n",
       "1               1.0         Rural           N             1              1   \n",
       "2               1.0         Urban           Y             1              1   \n",
       "3               1.0         Urban           Y             1              1   \n",
       "4               1.0         Urban           Y             1              0   \n",
       "5               1.0         Urban           Y             1              1   \n",
       "..              ...           ...         ...           ...            ...   \n",
       "609             1.0         Rural           Y             0              0   \n",
       "610             1.0         Rural           Y             1              1   \n",
       "611             1.0         Urban           Y             1              1   \n",
       "612             1.0         Urban           Y             1              1   \n",
       "613             0.0     Semiurban           N             0              0   \n",
       "\n",
       "     Dependents_Clean  Education_Clean  Self_Employed_Clean  \\\n",
       "1                   1                0                    0   \n",
       "2                   0                0                    1   \n",
       "3                   0                1                    0   \n",
       "4                   0                0                    0   \n",
       "5                   2                0                    1   \n",
       "..                ...              ...                  ...   \n",
       "609                 0                0                    0   \n",
       "610                 3                0                    0   \n",
       "611                 1                0                    0   \n",
       "612                 2                0                    0   \n",
       "613                 0                0                    1   \n",
       "\n",
       "     Property_Area_Clean  Loan_Status_Clean  \n",
       "1                      0                  0  \n",
       "2                      2                  1  \n",
       "3                      2                  1  \n",
       "4                      2                  1  \n",
       "5                      2                  1  \n",
       "..                   ...                ...  \n",
       "609                    0                  1  \n",
       "610                    0                  1  \n",
       "611                    2                  1  \n",
       "612                    2                  1  \n",
       "613                    1                  0  \n",
       "\n",
       "[480 rows x 20 columns]"
      ]
     },
     "execution_count": 9,
     "metadata": {},
     "output_type": "execute_result"
    }
   ],
   "source": [
    "cleaned_data"
   ]
  },
  {
   "cell_type": "code",
   "execution_count": 10,
   "metadata": {},
   "outputs": [
    {
     "name": "stdout",
     "output_type": "stream",
     "text": [
      "<class 'pandas.core.frame.DataFrame'>\n",
      "Int64Index: 480 entries, 1 to 613\n",
      "Data columns (total 12 columns):\n",
      " #   Column               Non-Null Count  Dtype  \n",
      "---  ------               --------------  -----  \n",
      " 0   ApplicantIncome      480 non-null    int64  \n",
      " 1   CoapplicantIncome    480 non-null    float64\n",
      " 2   LoanAmount           480 non-null    float64\n",
      " 3   Loan_Amount_Term     480 non-null    float64\n",
      " 4   Credit_History       480 non-null    float64\n",
      " 5   Gender_Clean         480 non-null    int32  \n",
      " 6   Married_Clean        480 non-null    int32  \n",
      " 7   Dependents_Clean     480 non-null    int32  \n",
      " 8   Education_Clean      480 non-null    int32  \n",
      " 9   Self_Employed_Clean  480 non-null    int32  \n",
      " 10  Property_Area_Clean  480 non-null    int32  \n",
      " 11  Loan_Status_Clean    480 non-null    int32  \n",
      "dtypes: float64(4), int32(7), int64(1)\n",
      "memory usage: 35.6 KB\n"
     ]
    }
   ],
   "source": [
    "data=cleaned_data.drop(['Gender','Married', 'Loan_ID','Dependents','Education','Self_Employed','Property_Area','Loan_Status'], axis=1)\n",
    "data.info()"
   ]
  },
  {
   "cell_type": "markdown",
   "metadata": {},
   "source": [
    "## Train Test Split"
   ]
  },
  {
   "cell_type": "code",
   "execution_count": 11,
   "metadata": {},
   "outputs": [],
   "source": [
    "from sklearn.model_selection import train_test_split\n",
    "labels = np.array(data.pop('Loan_Status_Clean'))\n",
    "X, X_test, y, y_test = train_test_split(data, labels, stratify = labels, test_size = 0.1, random_state = 43)"
   ]
  },
  {
   "cell_type": "code",
   "execution_count": 12,
   "metadata": {},
   "outputs": [
    {
     "data": {
      "text/plain": [
       "((432, 11), (432,), (48, 11), (48,))"
      ]
     },
     "execution_count": 12,
     "metadata": {},
     "output_type": "execute_result"
    }
   ],
   "source": [
    "X.shape,y.shape,X_test.shape, y_test.shape"
   ]
  },
  {
   "cell_type": "markdown",
   "metadata": {},
   "source": [
    "## DecisionTreeClassifier "
   ]
  },
  {
   "cell_type": "code",
   "execution_count": 13,
   "metadata": {},
   "outputs": [
    {
     "name": "stderr",
     "output_type": "stream",
     "text": [
      "C:\\Users\\lakki\\anaconda3\\lib\\site-packages\\sklearn\\model_selection\\_search.py:918: UserWarning: One or more of the test scores are non-finite: [       nan 0.81479915 0.81479915 0.81479915 0.81479915 0.81479915\n",
      " 0.81479915 0.81479915 0.81479915        nan 0.81479915 0.81479915\n",
      " 0.81479915 0.81479915 0.81479915 0.81479915 0.81479915 0.81479915\n",
      "        nan 0.81479915 0.81479915 0.81479915 0.81479915 0.81479915\n",
      " 0.81479915 0.81479915 0.81479915        nan 0.81479915 0.81479915\n",
      " 0.81479915 0.81479915 0.81479915 0.81479915 0.81479915 0.81479915\n",
      "        nan 0.80327696 0.80327696 0.80327696 0.80327696 0.80327696\n",
      " 0.80327696 0.80327696 0.80327696        nan 0.80560254 0.80560254\n",
      " 0.80560254 0.80560254 0.80560254 0.80560254 0.80560254 0.80560254\n",
      "        nan 0.80327696 0.80327696 0.80327696 0.80327696 0.80327696\n",
      " 0.80327696 0.80327696 0.80327696        nan 0.80327696 0.80327696\n",
      " 0.80327696 0.80327696 0.80327696 0.80327696 0.80327696 0.80327696\n",
      "        nan 0.80327696 0.80327696 0.80327696 0.80327696 0.80327696\n",
      " 0.79862579 0.79862579 0.79862579        nan 0.80560254 0.80560254\n",
      " 0.80560254 0.80560254 0.80560254 0.80095137 0.80095137 0.80095137\n",
      "        nan 0.79867865 0.79402748 0.79867865 0.79635307 0.79402748\n",
      " 0.79402748 0.79402748 0.7917019         nan 0.7917019  0.79402748\n",
      " 0.7917019  0.79402748 0.79402748 0.79402748 0.7917019  0.79402748\n",
      "        nan 0.7801797  0.77785412 0.7801797  0.77785412 0.7801797\n",
      " 0.77320296 0.77087738 0.77087738        nan 0.78250529 0.78250529\n",
      " 0.7801797  0.7801797  0.78250529 0.77552854 0.77320296 0.77320296\n",
      "        nan 0.77780127 0.78245243 0.77547569 0.78012685 0.78012685\n",
      " 0.77315011 0.77315011 0.77315011        nan 0.76400634 0.76400634\n",
      " 0.76633192 0.76633192 0.76633192 0.76627907 0.76860465 0.76633192\n",
      "        nan 0.78472516 0.78927061 0.79159619 0.79159619 0.79159619\n",
      " 0.78694503 0.77996829 0.77996829        nan 0.79392178 0.79159619\n",
      " 0.79159619 0.79392178 0.79159619 0.78694503 0.78229387 0.77996829\n",
      "        nan 0.77547569 0.77082452 0.77309725 0.77309725 0.77077167\n",
      " 0.76849894 0.76612051 0.76612051        nan 0.76390063 0.76390063\n",
      " 0.76162791 0.76390063 0.76162791 0.76390063 0.75930233 0.76162791\n",
      "        nan 0.79386892 0.78927061 0.79852008 0.79392178 0.80089852\n",
      " 0.78699789 0.78229387 0.7845666         nan 0.79624736 0.79630021\n",
      " 0.79154334 0.79852008 0.79624736 0.79164905 0.78229387 0.79154334\n",
      "        nan 0.75465116 0.77082452 0.76627907 0.76622622 0.76157505\n",
      " 0.75232558 0.75459831 0.75459831        nan 0.74312896 0.74085624\n",
      " 0.74783298 0.75010571 0.74545455 0.74545455 0.74312896 0.74772727\n",
      "        nan 0.78461945 0.7845666  0.78689218 0.7891649  0.78461945\n",
      " 0.7845666  0.77526427 0.77758985        nan 0.78927061 0.7845666\n",
      " 0.78921776 0.77531712 0.78694503 0.78451374 0.78218816 0.78218816\n",
      "        nan 0.72901691 0.72906977 0.72906977 0.72209302 0.72674419\n",
      " 0.71744186 0.7243129  0.7244186         nan 0.71511628 0.71749471\n",
      " 0.71511628 0.71744186 0.71294926 0.71754757 0.71062368 0.72674419\n",
      "        nan 0.76839323 0.7660148  0.77531712 0.76839323 0.77061311\n",
      " 0.7660148  0.76363636 0.76136364        nan 0.77991543 0.78229387\n",
      " 0.77293869 0.76136364 0.77758985 0.76834038 0.76136364 0.75206131\n",
      "        nan 0.7038055  0.7038055  0.71072939 0.7038055  0.70613108\n",
      " 0.70840381 0.7038055  0.71078224        nan 0.68990486 0.70618393\n",
      " 0.70391121 0.69223044 0.69001057 0.70153277 0.70153277 0.69920719\n",
      "        nan 0.76617336 0.76157505 0.76844609 0.75687104 0.75216702\n",
      " 0.75216702 0.74756871 0.74989429        nan 0.77785412 0.76157505\n",
      " 0.77082452 0.76622622 0.76617336 0.76146934 0.75919662 0.76146934\n",
      "        nan 0.72478858 0.72478858 0.71559197 0.71088795 0.71553911\n",
      " 0.71553911 0.72019027 0.7154334         nan 0.6807611  0.67843552\n",
      " 0.66913319 0.68308668 0.68303383 0.68308668 0.67605708 0.67616279\n",
      "        nan 0.81479915 0.81479915 0.81479915 0.81479915 0.81479915\n",
      " 0.81479915 0.81479915 0.81479915        nan 0.81479915 0.81479915\n",
      " 0.81479915 0.81479915 0.81479915 0.81479915 0.81479915 0.81479915\n",
      "        nan 0.81479915 0.81479915 0.81479915 0.81479915 0.81479915\n",
      " 0.81479915 0.81479915 0.81479915        nan 0.81479915 0.81479915\n",
      " 0.81479915 0.81479915 0.81479915 0.81479915 0.81479915 0.81479915\n",
      "        nan 0.80792812 0.80792812 0.80792812 0.80792812 0.80792812\n",
      " 0.80792812 0.80792812 0.80792812        nan 0.8102537  0.8102537\n",
      " 0.8102537  0.8102537  0.8102537  0.8102537  0.8102537  0.8102537\n",
      "        nan 0.80560254 0.80560254 0.80560254 0.80560254 0.80560254\n",
      " 0.80560254 0.80560254 0.80560254        nan 0.80560254 0.80560254\n",
      " 0.80560254 0.80560254 0.80560254 0.80560254 0.80560254 0.80560254\n",
      "        nan 0.78715645 0.78715645 0.78715645 0.78715645 0.78715645\n",
      " 0.78715645 0.78715645 0.78715645        nan 0.78948203 0.78948203\n",
      " 0.78948203 0.78948203 0.78948203 0.78948203 0.78948203 0.78948203\n",
      "        nan 0.78948203 0.78715645 0.78948203 0.78715645 0.78715645\n",
      " 0.78483087 0.78483087 0.78483087        nan 0.78483087 0.78483087\n",
      " 0.78483087 0.78483087 0.78483087 0.78483087 0.78483087 0.78483087\n",
      "        nan 0.78239958 0.78239958 0.78239958 0.780074   0.78239958\n",
      " 0.77774841 0.77542283 0.77542283        nan 0.78705074 0.78705074\n",
      " 0.78705074 0.78705074 0.78705074 0.78239958 0.780074   0.780074\n",
      "        nan 0.78477801 0.78012685 0.78472516 0.78472516 0.78472516\n",
      " 0.780074   0.77547569 0.77774841        nan 0.77780127 0.77780127\n",
      " 0.77780127 0.77552854 0.77552854 0.77552854 0.77552854 0.77780127\n",
      "        nan 0.79159619 0.78927061 0.79624736 0.79624736 0.78927061\n",
      " 0.78461945 0.78461945 0.77996829        nan 0.79624736 0.79159619\n",
      " 0.79392178 0.79159619 0.78694503 0.78927061 0.78229387 0.78229387\n",
      "        nan 0.7685518  0.76622622 0.76627907 0.76162791 0.76622622\n",
      " 0.75465116 0.75237844 0.75465116        nan 0.75475687 0.75475687\n",
      " 0.75010571 0.75010571 0.75475687 0.75010571 0.75475687 0.75010571\n",
      "        nan 0.7845666  0.78461945 0.78229387 0.77764271 0.78224101\n",
      " 0.77996829 0.77293869 0.77061311        nan 0.77991543 0.77526427\n",
      " 0.77066596 0.77293869 0.76834038 0.76834038 0.76363636 0.77061311\n",
      "        nan 0.74756871 0.75216702 0.74756871 0.74994715 0.75681818\n",
      " 0.74762156 0.74064482 0.74994715        nan 0.73377378 0.73150106\n",
      " 0.73377378 0.73377378 0.73377378 0.73377378 0.73377378 0.73615222\n",
      "        nan 0.78234672 0.7846723  0.78461945 0.78694503 0.78461945\n",
      " 0.77769556 0.77066596 0.77066596        nan 0.77531712 0.77531712\n",
      " 0.77764271 0.77531712 0.77071882 0.76606765 0.7660148  0.77299154\n",
      "        nan 0.73842495 0.73837209 0.74534884 0.74075053 0.73604651\n",
      " 0.73377378 0.72690275 0.73609937        nan 0.71538055 0.71775899\n",
      " 0.72003171 0.71775899 0.71775899 0.71775899 0.72003171 0.72003171\n",
      "        nan 0.77547569 0.77082452 0.77309725 0.77774841 0.77309725\n",
      " 0.76617336 0.75914376 0.75914376        nan 0.75919662 0.75914376\n",
      " 0.76141649 0.75454545 0.75909091 0.75216702 0.74756871 0.75454545\n",
      "        nan 0.71997886 0.71538055 0.71765328 0.72230444 0.71770613\n",
      " 0.70845666 0.70613108 0.7153277         nan 0.69217759 0.68985201\n",
      " 0.68535941 0.68303383 0.68530655 0.68530655 0.68990486 0.69450317\n",
      "        nan 0.75010571 0.75005285 0.75459831 0.75465116 0.75227273\n",
      " 0.74767442 0.74064482 0.73609937        nan 0.73609937 0.73842495\n",
      " 0.73377378 0.73377378 0.72917548 0.71987315 0.72447146 0.73831924\n",
      "        nan 0.70369979 0.71067653 0.71294926 0.70364693 0.70602537\n",
      " 0.69450317 0.69910148 0.70142706        nan 0.68303383 0.67843552\n",
      " 0.68530655 0.67843552 0.68303383 0.6807611  0.68530655 0.68535941]\n",
      "  warnings.warn(\n"
     ]
    },
    {
     "data": {
      "text/plain": [
       "{'criterion': 'gini',\n",
       " 'max_depth': 1,\n",
       " 'min_samples_leaf': 1,\n",
       " 'min_samples_split': 2}"
      ]
     },
     "execution_count": 13,
     "metadata": {},
     "output_type": "execute_result"
    }
   ],
   "source": [
    "from sklearn.tree import DecisionTreeClassifier\n",
    "from sklearn.metrics import accuracy_score\n",
    "from sklearn.model_selection import GridSearchCV\n",
    "tree_par= {'criterion' :['gini','entropy'], \n",
    "           'max_depth': range(1,10),\n",
    "           'min_samples_leaf' : range(1,5), \n",
    "           'min_samples_split':range(1,10)\n",
    "          }\n",
    "from sklearn.model_selection import GridSearchCV\n",
    "tree = DecisionTreeClassifier()\n",
    "grid_tree= GridSearchCV(tree, param_grid= tree_par,scoring='accuracy', cv=10,n_jobs=-1)\n",
    "grid_tree.fit(X,y)\n",
    "\n",
    "DT_acc=grid_tree.best_score_\n",
    "DT_par=grid_tree.best_params_\n",
    "DT_par"
   ]
  },
  {
   "cell_type": "code",
   "execution_count": 14,
   "metadata": {},
   "outputs": [
    {
     "data": {
      "text/plain": [
       "0.75"
      ]
     },
     "execution_count": 14,
     "metadata": {},
     "output_type": "execute_result"
    }
   ],
   "source": [
    "\n",
    "tree = DecisionTreeClassifier(criterion= 'gini',\n",
    " max_depth= 1,\n",
    " min_samples_leaf= 1,\n",
    " min_samples_split= 2)\n",
    "tree.fit(X, y)\n",
    "y_pred=tree.predict(X_test)\n",
    "DT_accuracy= accuracy_score(y_test, y_pred)\n",
    "DT_accuracy"
   ]
  },
  {
   "cell_type": "markdown",
   "metadata": {},
   "source": [
    "## KNeighborsClassifier"
   ]
  },
  {
   "cell_type": "code",
   "execution_count": 15,
   "metadata": {},
   "outputs": [],
   "source": [
    "from sklearn.neighbors import KNeighborsClassifier"
   ]
  },
  {
   "cell_type": "code",
   "execution_count": 16,
   "metadata": {},
   "outputs": [],
   "source": [
    "neigh = KNeighborsClassifier()"
   ]
  },
  {
   "cell_type": "code",
   "execution_count": 17,
   "metadata": {},
   "outputs": [
    {
     "data": {
      "text/plain": [
       "GridSearchCV(cv=10, estimator=KNeighborsClassifier(), n_jobs=-1,\n",
       "             param_grid={'metric': ['euclidean', 'manhattan'],\n",
       "                         'n_neighbors': range(1, 20),\n",
       "                         'weights': ['uniform', 'distance']},\n",
       "             scoring='accuracy')"
      ]
     },
     "execution_count": 17,
     "metadata": {},
     "output_type": "execute_result"
    }
   ],
   "source": [
    "knn_par={'n_neighbors': range(1,20), 'weights': ['uniform','distance'],'metric': ['euclidean','manhattan']}\n",
    "grid_knn=GridSearchCV(neigh, knn_par,scoring='accuracy', cv=10,n_jobs=-1)\n",
    "grid_knn.fit(X,y)"
   ]
  },
  {
   "cell_type": "code",
   "execution_count": 18,
   "metadata": {},
   "outputs": [
    {
     "data": {
      "text/plain": [
       "{'metric': 'manhattan', 'n_neighbors': 14, 'weights': 'uniform'}"
      ]
     },
     "execution_count": 18,
     "metadata": {},
     "output_type": "execute_result"
    }
   ],
   "source": [
    "knn_acc=grid_knn.best_score_\n",
    "knn_par=grid_knn.best_params_\n",
    "knn_par"
   ]
  },
  {
   "cell_type": "code",
   "execution_count": 19,
   "metadata": {},
   "outputs": [
    {
     "data": {
      "text/plain": [
       "0.6666666666666666"
      ]
     },
     "execution_count": 19,
     "metadata": {},
     "output_type": "execute_result"
    }
   ],
   "source": [
    "neigh = KNeighborsClassifier(metric= 'manhattan', n_neighbors= 14, weights= 'uniform')\n",
    "neigh.fit(X,y)\n",
    "y_pred=neigh.predict(X_test)\n",
    "knn_accuracy= accuracy_score(y_test, y_pred)\n",
    "knn_accuracy"
   ]
  },
  {
   "cell_type": "markdown",
   "metadata": {},
   "source": [
    "## LogisticRegression"
   ]
  },
  {
   "cell_type": "code",
   "execution_count": 20,
   "metadata": {},
   "outputs": [
    {
     "name": "stderr",
     "output_type": "stream",
     "text": [
      "C:\\Users\\lakki\\anaconda3\\lib\\site-packages\\sklearn\\model_selection\\_search.py:918: UserWarning: One or more of the test scores are non-finite: [       nan 0.68752643        nan 0.69217759        nan 0.8032241\n",
      "        nan 0.81014799        nan 0.81247357        nan 0.81014799\n",
      "        nan 0.80782241]\n",
      "  warnings.warn(\n"
     ]
    },
    {
     "data": {
      "text/plain": [
       "GridSearchCV(cv=10, estimator=LogisticRegression(), n_jobs=-1,\n",
       "             param_grid={'C': array([1.e-03, 1.e-02, 1.e-01, 1.e+00, 1.e+01, 1.e+02, 1.e+03]),\n",
       "                         'penalty': ['l1', 'l2']},\n",
       "             scoring='accuracy')"
      ]
     },
     "execution_count": 20,
     "metadata": {},
     "output_type": "execute_result"
    }
   ],
   "source": [
    "from sklearn.linear_model import LogisticRegression\n",
    "lr=LogisticRegression()\n",
    "lr_par={\"C\":np.logspace(-3,3,7), \"penalty\":[\"l1\",\"l2\"]}\n",
    "grid_LR=GridSearchCV(lr, lr_par,scoring='accuracy', cv=10,n_jobs=-1)\n",
    "grid_LR.fit(X,y)\n"
   ]
  },
  {
   "cell_type": "code",
   "execution_count": 21,
   "metadata": {},
   "outputs": [
    {
     "data": {
      "text/plain": [
       "{'C': 10.0, 'penalty': 'l2'}"
      ]
     },
     "execution_count": 21,
     "metadata": {},
     "output_type": "execute_result"
    }
   ],
   "source": [
    "LR_acc=grid_LR.best_score_\n",
    "LR_par=grid_LR.best_params_\n",
    "LR_par"
   ]
  },
  {
   "cell_type": "code",
   "execution_count": 22,
   "metadata": {},
   "outputs": [
    {
     "data": {
      "text/plain": [
       "0.75"
      ]
     },
     "execution_count": 22,
     "metadata": {},
     "output_type": "execute_result"
    }
   ],
   "source": [
    "lr =LogisticRegression(C= 10.0, penalty= 'l2')\n",
    "lr.fit(X,y)\n",
    "y_pred=lr.predict(X_test)\n",
    "lr_accuracy= accuracy_score(y_test, y_pred)\n",
    "lr_accuracy"
   ]
  },
  {
   "cell_type": "markdown",
   "metadata": {},
   "source": [
    "## Support Vector Machine"
   ]
  },
  {
   "cell_type": "code",
   "execution_count": 23,
   "metadata": {},
   "outputs": [
    {
     "data": {
      "text/plain": [
       "GridSearchCV(estimator=SVC(),\n",
       "             param_grid={'C': [1, 10], 'kernel': ('linear', 'rbf')})"
      ]
     },
     "execution_count": 23,
     "metadata": {},
     "output_type": "execute_result"
    }
   ],
   "source": [
    "from sklearn import svm\n",
    "svc = svm.SVC()\n",
    "svc_par={'kernel':('linear', 'rbf'), 'C':[1, 10]}\n",
    "grid_svc=GridSearchCV(svc, svc_par)\n",
    "\n",
    "grid_svc.fit(X,y)"
   ]
  },
  {
   "cell_type": "code",
   "execution_count": 24,
   "metadata": {},
   "outputs": [
    {
     "data": {
      "text/plain": [
       "{'C': 10, 'kernel': 'linear'}"
      ]
     },
     "execution_count": 24,
     "metadata": {},
     "output_type": "execute_result"
    }
   ],
   "source": [
    "svm_acc=grid_svc.best_score_\n",
    "svm_par=grid_svc.best_params_\n",
    "svm_par"
   ]
  },
  {
   "cell_type": "code",
   "execution_count": 25,
   "metadata": {},
   "outputs": [
    {
     "data": {
      "text/plain": [
       "0.7708333333333334"
      ]
     },
     "execution_count": 25,
     "metadata": {},
     "output_type": "execute_result"
    }
   ],
   "source": [
    "svc = svm.SVC(C= 10, kernel= 'linear')\n",
    "svc.fit(X,y)\n",
    "y_pred=svc.predict(X_test)\n",
    "svn_accuracy= accuracy_score(y_test, y_pred)\n",
    "svn_accuracy"
   ]
  },
  {
   "cell_type": "markdown",
   "metadata": {},
   "source": [
    "## Random Forest Classifaction"
   ]
  },
  {
   "cell_type": "code",
   "execution_count": 26,
   "metadata": {},
   "outputs": [
    {
     "data": {
      "text/plain": [
       "GridSearchCV(cv=10, estimator=RandomForestClassifier(), n_jobs=-1,\n",
       "             param_grid={'bootstrap': [True, False], 'max_depth': [3],\n",
       "                         'max_features': ['auto', 'sqrt', None, 0.5, 0.6, 0.7,\n",
       "                                          0.7999999999999999,\n",
       "                                          0.8999999999999999],\n",
       "                         'max_leaf_nodes': [10, 20, 30, 40, 50],\n",
       "                         'min_samples_split': [2, 5, 10],\n",
       "                         'n_estimators': [10, 31, 52, 73, 94, 115, 136, 157,\n",
       "                                          178, 200]},\n",
       "             scoring='accuracy')"
      ]
     },
     "execution_count": 26,
     "metadata": {},
     "output_type": "execute_result"
    }
   ],
   "source": [
    "from sklearn.ensemble import RandomForestClassifier\n",
    "rf=RandomForestClassifier()\n",
    "rf_dis = { 'n_estimators': [int(x) for x in np.linspace(start = 10, stop = 200, num = 10)],\n",
    "            'max_depth' : [int(x) for x in np.linspace(start = 3, stop = 20 , num = 1)],\n",
    "          'max_features' : ['auto', 'sqrt', None] + list(np.arange(0.5, 1, 0.1)),\n",
    "          'max_leaf_nodes' : [int(x) for x in np.linspace(start = 10, stop = 50, num = 5)],\n",
    "          'min_samples_split' : [2,5,10],\n",
    "          'bootstrap' : [True, False]\n",
    "         }\n",
    "grid_rf=GridSearchCV(rf, rf_dis,scoring='accuracy', cv=10,n_jobs=-1)\n",
    "\n",
    "grid_rf.fit(X,y)\n"
   ]
  },
  {
   "cell_type": "code",
   "execution_count": 27,
   "metadata": {},
   "outputs": [
    {
     "data": {
      "text/plain": [
       "{'bootstrap': True,\n",
       " 'max_depth': 3,\n",
       " 'max_features': 'auto',\n",
       " 'max_leaf_nodes': 20,\n",
       " 'min_samples_split': 10,\n",
       " 'n_estimators': 10}"
      ]
     },
     "execution_count": 27,
     "metadata": {},
     "output_type": "execute_result"
    }
   ],
   "source": [
    "rf_acc=grid_rf.best_score_\n",
    "rf_par=grid_rf.best_params_\n",
    "rf_par"
   ]
  },
  {
   "cell_type": "code",
   "execution_count": 28,
   "metadata": {},
   "outputs": [
    {
     "data": {
      "text/plain": [
       "0.75"
      ]
     },
     "execution_count": 28,
     "metadata": {},
     "output_type": "execute_result"
    }
   ],
   "source": [
    "rf=RandomForestClassifier(bootstrap= True,\n",
    " max_depth= 3,\n",
    " max_features= 'auto',\n",
    " max_leaf_nodes= 30,\n",
    " min_samples_split= 2,\n",
    " n_estimators= 31)\n",
    "rf.fit(X,y)\n",
    "y_pred=rf.predict(X_test)\n",
    "rf_accuracy= accuracy_score(y_test, y_pred)\n",
    "rf_accuracy"
   ]
  },
  {
   "cell_type": "markdown",
   "metadata": {},
   "source": [
    "## Naive Bayes "
   ]
  },
  {
   "cell_type": "code",
   "execution_count": 29,
   "metadata": {},
   "outputs": [
    {
     "data": {
      "text/plain": [
       "GridSearchCV(cv=10, estimator=GaussianNB(), n_jobs=-1,\n",
       "             param_grid={'var_smoothing': array([1.00000000e+00, 8.11130831e-01, 6.57933225e-01, 5.33669923e-01,\n",
       "       4.32876128e-01, 3.51119173e-01, 2.84803587e-01, 2.31012970e-01,\n",
       "       1.87381742e-01, 1.51991108e-01, 1.23284674e-01, 1.00000000e-01,\n",
       "       8.11130831e-02, 6.57933225e-02, 5.33669923e-02, 4.32876128e-02,\n",
       "       3.51119173e-02, 2.848035...\n",
       "       1.23284674e-07, 1.00000000e-07, 8.11130831e-08, 6.57933225e-08,\n",
       "       5.33669923e-08, 4.32876128e-08, 3.51119173e-08, 2.84803587e-08,\n",
       "       2.31012970e-08, 1.87381742e-08, 1.51991108e-08, 1.23284674e-08,\n",
       "       1.00000000e-08, 8.11130831e-09, 6.57933225e-09, 5.33669923e-09,\n",
       "       4.32876128e-09, 3.51119173e-09, 2.84803587e-09, 2.31012970e-09,\n",
       "       1.87381742e-09, 1.51991108e-09, 1.23284674e-09, 1.00000000e-09])},\n",
       "             scoring='accuracy')"
      ]
     },
     "execution_count": 29,
     "metadata": {},
     "output_type": "execute_result"
    }
   ],
   "source": [
    "from sklearn.naive_bayes import GaussianNB\n",
    "gnb = GaussianNB()\n",
    "params_NB = {'var_smoothing': np.logspace(0,-9, num=100)}\n",
    "grid_nb=GridSearchCV(gnb,params_NB ,scoring='accuracy', cv=10,n_jobs=-1)\n",
    "grid_nb.fit(X,y)"
   ]
  },
  {
   "cell_type": "code",
   "execution_count": 30,
   "metadata": {},
   "outputs": [
    {
     "data": {
      "text/plain": [
       "{'var_smoothing': 1.873817422860387e-09}"
      ]
     },
     "execution_count": 30,
     "metadata": {},
     "output_type": "execute_result"
    }
   ],
   "source": [
    "nb_acc=grid_nb.best_score_\n",
    "nb_par=grid_nb.best_params_\n",
    "nb_par"
   ]
  },
  {
   "cell_type": "code",
   "execution_count": 31,
   "metadata": {},
   "outputs": [
    {
     "data": {
      "text/plain": [
       "0.7708333333333334"
      ]
     },
     "execution_count": 31,
     "metadata": {},
     "output_type": "execute_result"
    }
   ],
   "source": [
    "gnb = GaussianNB(var_smoothing= 1.873817422860387e-09)\n",
    "gnb.fit(X,y)\n",
    "y_pred=gnb.predict(X_test)\n",
    "gnb_accuracy= accuracy_score(y_test, y_pred)\n",
    "gnb_accuracy"
   ]
  },
  {
   "cell_type": "markdown",
   "metadata": {},
   "source": [
    "## The Accuracy of All Classifiers"
   ]
  },
  {
   "cell_type": "code",
   "execution_count": 32,
   "metadata": {},
   "outputs": [
    {
     "name": "stdout",
     "output_type": "stream",
     "text": [
      "Decision Tree:   Accuracy:   0.75\n",
      "KNN:   Accuracy: 0.6666666666666666\n",
      "SVM:   Accuracy:   0.7708333333333334\n",
      "Random Forest:   Accuracy:   0.75\n",
      "Naive Bayes:   Accuracy:   0.7708333333333334\n",
      "Logistic regression:   Accuracy:   0.75\n"
     ]
    }
   ],
   "source": [
    "print('Decision Tree:  ','Accuracy:  ',DT_accuracy)\n",
    "print('KNN:  ','Accuracy:',knn_accuracy)\n",
    "print('SVM:  ','Accuracy:  ',svn_accuracy)\n",
    "print('Random Forest:  ','Accuracy:  ',rf_accuracy)\n",
    "print('Naive Bayes:  ','Accuracy:  ',gnb_accuracy)\n",
    "print('Logistic regression:  ','Accuracy:  ',lr_accuracy)\n",
    "\n",
    "\n"
   ]
  },
  {
   "cell_type": "markdown",
   "metadata": {},
   "source": [
    "## The Best Classifier"
   ]
  },
  {
   "cell_type": "code",
   "execution_count": 33,
   "metadata": {},
   "outputs": [
    {
     "name": "stdout",
     "output_type": "stream",
     "text": [
      "The best algorithm is Naiv Bayes with an accuracy of   0.7708333333333334\n"
     ]
    }
   ],
   "source": [
    "print(\"The best algorithm is Naiv Bayes with an accuracy of  \", gnb_accuracy)"
   ]
  }
 ],
 "metadata": {
  "kernelspec": {
   "display_name": "Python 3",
   "language": "python",
   "name": "python3"
  },
  "language_info": {
   "codemirror_mode": {
    "name": "ipython",
    "version": 3
   },
   "file_extension": ".py",
   "mimetype": "text/x-python",
   "name": "python",
   "nbconvert_exporter": "python",
   "pygments_lexer": "ipython3",
   "version": "3.8.8"
  }
 },
 "nbformat": 4,
 "nbformat_minor": 4
}
